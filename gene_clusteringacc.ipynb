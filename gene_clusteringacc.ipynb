{
 "cells": [
  {
   "cell_type": "code",
   "execution_count": 1,
   "metadata": {},
   "outputs": [
    {
     "name": "stderr",
     "output_type": "stream",
     "text": [
      "2024-05-26 23:12:32,474 - GillesPy2 - WARNING - Unable to use C++ optimized solvers due to one or more missing dependencies: ['g++']. The performance of this package can be significantly increased if you install/configure these on your machine.\n"
     ]
    }
   ],
   "source": [
    "import sys\n",
    "sys.path.append('./code')\n",
    "sys.path.append('./data')\n",
    "\n",
    "import gillespy2\n",
    "from clustering import *\n",
    "from MISA import *\n",
    "from joblib import Parallel, delayed\n",
    "from sklearn.cluster import KMeans\n",
    "\n",
    "# from https://github.com/eepperly/Randomly-Pivoted-Cholesky\n",
    "from rpcholesky import rpcholesky\n",
    "from matrix import KernelMatrix\n",
    "\n",
    "np.random.seed(1)\n",
    "plt.rcParams['pdf.fonttype'] = 42\n",
    "plt.rcParams['ps.fonttype'] = 42\n",
    "plt.rcParams['axes.linewidth'] = 1.25"
   ]
  },
  {
   "cell_type": "code",
   "execution_count": 2,
   "metadata": {},
   "outputs": [],
   "source": [
    "def one_MISA_test(nSims,nT, Tmax, param1,param2):\n",
    "\n",
    "    nT = int(nT)\n",
    "    nSims = int(nSims)\n",
    "    trajs1 = np.zeros([nSims,nT,2])\n",
    "    trajs2 = np.zeros([nSims,nT,2])\n",
    "    for i in range(0,nSims):\n",
    "        model1 = create_MISA_model_numpy(end_time=Tmax,nSamples=int(nT),frval=param1, astart=np.random.randint(0,100),bstart=np.random.randint(0,100))\n",
    "        ssa_solver1 = gillespy2.NumPySSASolver(model=model1)\n",
    "        results= model1.run(solver=ssa_solver1)\n",
    "\n",
    "        trajs1[i,:,0] = results['a'][0:nT]\n",
    "        trajs1[i,:,1] = results['b'][0:nT]\n",
    "\n",
    "        model2 = create_MISA_model_numpy(end_time=Tmax,nSamples=int(nT),frval=param2, astart=np.random.randint(0,100),bstart=np.random.randint(0,100))\n",
    "        ssa_solver2 = gillespy2.NumPySSASolver(model=model2)\n",
    "        results2= model2.run(solver=ssa_solver2)\n",
    "\n",
    "        trajs2[i,range(0,nT),0] = results2['a'][0:nT]\n",
    "        trajs2[i,range(0,nT),1] = results2['b'][0:nT]  \n",
    "        trajs2[i,range(0,nT),0] = results2['a'][0:nT]\n",
    "        trajs2[i,range(0,nT),1] = results2['b'][0:nT]   \n",
    "    trajs = np.concatenate([trajs1,trajs2]) # 2nSims x nT x 2\n",
    "    flattened_traj = np.reshape(trajs,[2*nSims*nT,2])\n",
    "\n",
    "\n",
    "\n",
    "    ### cluster\n",
    "    lra = rpcholesky(KernelMatrix(flattened_traj,bandwidth=50),100)\n",
    "    F = lra.get_right_factor()\n",
    "    idx = lra.get_indices()\n",
    "        \n",
    "    # dense eigensolver\n",
    "    normal = F.T @ (F @ np.ones(F.shape[1]))\n",
    "    normal[normal > 0] = normal[normal > 0]**-.5\n",
    "    F = F * normal[np.newaxis, :]\n",
    "    vals, vecs = np.linalg.svd(F, full_matrices=False)[1:3]\n",
    "    vecs = vecs.T * normal[:, np.newaxis]\n",
    "    v_min =5\n",
    "    V = vecs[:, 0:v_min]\n",
    "\n",
    "    # k-means clustering\n",
    "    nClusters = 4\n",
    "    kmeans = KMeans(n_clusters=nClusters,n_init='auto').fit(V)\n",
    "\n",
    "\n",
    "    # now do VEM\n",
    "    discrete_trajs = np.reshape(kmeans.labels_,[2*nSims,nT]).astype('int64')\n",
    "    Xt= discrete_trajs\n",
    "    nStates=4\n",
    "    nEM = 100\n",
    "    nClustMax=2\n",
    "    tol=1e-8\n",
    "    alphaPrior = 1.0/nClustMax\n",
    "    zHat, muHat, qHat, pHat, steps, logL = doVEMmulti(Xt, nClustMax, nStates, tol,  max_iters=10000,alpha=alphaPrior)\n",
    "\n",
    "    trueLabels = np.zeros(2*nSims,)\n",
    "    trueLabels[0:nSims] = 0\n",
    "    trueLabels[nSims:] = 1\n",
    "    trueLabels= np.ndarray.astype(trueLabels,'int')\n",
    "\n",
    "    best_assignment, zHat_c, qHat_c, muHat_c, pHat_c = find_best_clustermatch(trueLabels.T, zHat, muHat, qHat, pHat)  # uses HUNGARIAN ALGORITHM to assign best permutation\n",
    "\n",
    "    predictLabels = zHat_c.argmax(axis=1)\n",
    "\n",
    "    acc = sum(predictLabels==trueLabels)/(2*nSims)\n",
    "    return acc"
   ]
  },
  {
   "cell_type": "code",
   "execution_count": 3,
   "metadata": {},
   "outputs": [],
   "source": [
    "param1=0.01\n",
    "nTvals=5\n",
    "nPvals=13\n",
    "nTrials=100\n",
    "nSims=15\n",
    "\n",
    "Tvals = np.round(np.logspace(np.log10(5),2, nTvals))\n",
    "param2vals = np.logspace(np.log10(param1),np.log10(param1)+2,nPvals)\n",
    "trialRange = range(nTrials)\n",
    "    \n",
    "errVals = np.zeros([nTrials,nTvals,nPvals])\n"
   ]
  },
  {
   "cell_type": "code",
   "execution_count": 4,
   "metadata": {},
   "outputs": [
    {
     "name": "stdout",
     "output_type": "stream",
     "text": [
      "[0.01, 5.0]\n",
      "[0.01, 11.0]\n",
      "[0.01, 22.0]\n",
      "[0.01, 47.0]\n",
      "[0.01, 100.0]\n",
      "[0.014677992676220698, 5.0]\n",
      "[0.014677992676220698, 11.0]\n",
      "[0.014677992676220698, 22.0]\n",
      "[0.014677992676220698, 47.0]\n",
      "[0.014677992676220698, 100.0]\n",
      "[0.021544346900318832, 5.0]\n",
      "[0.021544346900318832, 11.0]\n",
      "[0.021544346900318832, 22.0]\n",
      "[0.021544346900318832, 47.0]\n",
      "[0.021544346900318832, 100.0]\n",
      "[0.03162277660168379, 5.0]\n",
      "[0.03162277660168379, 11.0]\n",
      "[0.03162277660168379, 22.0]\n",
      "[0.03162277660168379, 47.0]\n",
      "[0.03162277660168379, 100.0]\n",
      "[0.046415888336127774, 5.0]\n",
      "[0.046415888336127774, 11.0]\n",
      "[0.046415888336127774, 22.0]\n",
      "[0.046415888336127774, 47.0]\n",
      "[0.046415888336127774, 100.0]\n",
      "[0.06812920690579612, 5.0]\n",
      "[0.06812920690579612, 11.0]\n",
      "[0.06812920690579612, 22.0]\n",
      "[0.06812920690579612, 47.0]\n",
      "[0.06812920690579612, 100.0]\n",
      "[0.1, 5.0]\n",
      "[0.1, 11.0]\n",
      "[0.1, 22.0]\n",
      "[0.1, 47.0]\n",
      "[0.1, 100.0]\n",
      "[0.1467799267622069, 5.0]\n",
      "[0.1467799267622069, 11.0]\n",
      "[0.1467799267622069, 22.0]\n",
      "[0.1467799267622069, 47.0]\n",
      "[0.1467799267622069, 100.0]\n",
      "[0.21544346900318834, 5.0]\n",
      "[0.21544346900318834, 11.0]\n",
      "[0.21544346900318834, 22.0]\n",
      "[0.21544346900318834, 47.0]\n",
      "[0.21544346900318834, 100.0]\n",
      "[0.31622776601683794, 5.0]\n",
      "[0.31622776601683794, 11.0]\n",
      "[0.31622776601683794, 22.0]\n",
      "[0.31622776601683794, 47.0]\n",
      "[0.31622776601683794, 100.0]\n",
      "[0.46415888336127775, 5.0]\n",
      "[0.46415888336127775, 11.0]\n",
      "[0.46415888336127775, 22.0]\n",
      "[0.46415888336127775, 47.0]\n",
      "[0.46415888336127775, 100.0]\n",
      "[0.6812920690579611, 5.0]\n",
      "[0.6812920690579611, 11.0]\n",
      "[0.6812920690579611, 22.0]\n",
      "[0.6812920690579611, 47.0]\n",
      "[0.6812920690579611, 100.0]\n",
      "[1.0, 5.0]\n",
      "[1.0, 11.0]\n",
      "[1.0, 22.0]\n",
      "[1.0, 47.0]\n",
      "[1.0, 100.0]\n"
     ]
    }
   ],
   "source": [
    "\n",
    "for p in range(nPvals):\n",
    "    param2 = param2vals[p]\n",
    "    for t in range(nTvals):\n",
    "        nT = Tvals[t]\n",
    "        print([param2,nT])\n",
    "        outpar = Parallel(n_jobs=-1)(delayed(one_MISA_test)(nSims,nT,nT,param1,param2) for s in trialRange)\n",
    "        for s in trialRange:\n",
    "            errVals[s,t,p] = outpar[s]\n"
   ]
  },
  {
   "cell_type": "code",
   "execution_count": 5,
   "metadata": {},
   "outputs": [],
   "source": [
    "with open('temp/gene_sweep_2024.npy', 'wb') as f:\n",
    "    np.save(f, param2vals)\n",
    "    np.save(f, Tvals)\n",
    "    np.save(f, errVals)\n",
    "    np.save(f, param1)\n",
    "    np.save(f, nSims)\n",
    "    np.save(f, nTrials)\n"
   ]
  },
  {
   "cell_type": "code",
   "execution_count": 6,
   "metadata": {},
   "outputs": [],
   "source": [
    "err_means = np.mean(errVals,axis=0)"
   ]
  },
  {
   "cell_type": "code",
   "execution_count": 9,
   "metadata": {},
   "outputs": [
    {
     "name": "stderr",
     "output_type": "stream",
     "text": [
      "C:\\Users\\Chris\\AppData\\Local\\Temp\\ipykernel_15492\\448817778.py:19: MatplotlibDeprecationWarning: The get_cmap function was deprecated in Matplotlib 3.7 and will be removed two minor releases later. Use ``matplotlib.colormaps[name]`` or ``matplotlib.colormaps.get_cmap(obj)`` instead.\n",
      "  cmap = cm.get_cmap('plasma', 5)    # 5 discrete colors\n",
      "C:\\Users\\Chris\\AppData\\Local\\Temp\\ipykernel_15492\\448817778.py:23: MatplotlibDeprecationWarning: Unable to determine Axes to steal space for Colorbar. Using gca(), but will raise in the future. Either provide the *cax* argument to use as the Axes for the Colorbar, provide the *ax* argument to steal space from it, or add *mappable* to an Axes.\n",
      "  cbar=fig.colorbar(sm,ticks=[5, 10, 50, 100])\n"
     ]
    },
    {
     "data": {
      "image/png": "[encoded data removed]",
      "text/plain": [
       "<Figure size 600x400 with 2 Axes>"
      ]
     },
     "metadata": {},
     "output_type": "display_data"
    }
   ],
   "source": [
    "from matplotlib import cm\n",
    "import matplotlib\n",
    "\n",
    "norm = matplotlib.colors.LogNorm(vmin=Tvals[0], vmax=Tvals[-1]*1.1)\n",
    "#import cmcrameri.cm as cmc\n",
    "\n",
    "fig, ax = plt.subplots(figsize=(6,4)) \n",
    "ax.set_xscale('log')\n",
    "\n",
    "\n",
    "for t in range(nTvals):\n",
    "    ax.plot(param2vals/param1, err_means[t,:],color=cm.plasma(norm(Tvals[t])),linewidth=1.5,marker='o',markersize=7)\n",
    "\n",
    "ax.set_xlabel('$f_r^{(2)}/f_r^{(1)}$',fontsize=13)\n",
    "ax.set_ylabel('classification accuracy',fontsize=13)\n",
    "ax.set_title('two cell type clustering',fontsize=12)\n",
    "\n",
    "\n",
    "cmap = cm.get_cmap('plasma', 5)    # 5 discrete colors\n",
    "\n",
    "\n",
    "sm = plt.cm.ScalarMappable(cmap=cmap, norm=norm)\n",
    "cbar=fig.colorbar(sm,ticks=[5, 10, 50, 100])\n",
    "cbar.set_label('$T$',rotation=0,labelpad=-10)\n",
    "cbar.set_ticks([10,100])\n",
    "\n",
    "fig.savefig('figs/gene_clustering_acc.pdf')"
   ]
  },
  {
   "cell_type": "code",
   "execution_count": null,
   "metadata": {},
   "outputs": [],
   "source": []
  }
 ],
 "metadata": {
  "kernelspec": {
   "display_name": "base",
   "language": "python",
   "name": "python3"
  },
  "language_info": {
   "codemirror_mode": {
    "name": "ipython",
    "version": 3
   },
   "file_extension": ".py",
   "mimetype": "text/x-python",
   "name": "python",
   "nbconvert_exporter": "python",
   "pygments_lexer": "ipython3",
   "version": "3.11.5"
  }
 },
 "nbformat": 4,
 "nbformat_minor": 2
}
