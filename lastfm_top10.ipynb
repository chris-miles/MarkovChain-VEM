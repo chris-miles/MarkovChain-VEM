{
 "cells": [
  {
   "cell_type": "code",
   "execution_count": 1,
   "metadata": {},
   "outputs": [],
   "source": [
    "import sys\n",
    "sys.path.append('./code')\n",
    "sys.path.append('./data')\n",
    "\n",
    "import sys\n",
    "import pandas as pd\n",
    "import numpy as np\n",
    "import matplotlib.pyplot as plt\n",
    "from clustering import *\n",
    "\n",
    "from sklearn.metrics import ConfusionMatrixDisplay\n",
    "\n",
    "\n",
    "np.random.seed(1)\n",
    "\n",
    "plt.rcParams['pdf.fonttype'] = 42\n",
    "plt.rcParams['ps.fonttype'] = 42\n",
    "plt.rcParams['axes.linewidth'] = 1.25\n",
    "\n",
    "#modified from Kausik et al's code"
   ]
  },
  {
   "cell_type": "code",
   "execution_count": 2,
   "metadata": {},
   "outputs": [
    {
     "data": {
      "text/html": [
       "<div>\n",
       "<style scoped>\n",
       "    .dataframe tbody tr th:only-of-type {\n",
       "        vertical-align: middle;\n",
       "    }\n",
       "\n",
       "    .dataframe tbody tr th {\n",
       "        vertical-align: top;\n",
       "    }\n",
       "\n",
       "    .dataframe thead th {\n",
       "        text-align: right;\n",
       "    }\n",
       "</style>\n",
       "<table border=\"1\" class=\"dataframe\">\n",
       "  <thead>\n",
       "    <tr style=\"text-align: right;\">\n",
       "      <th></th>\n",
       "      <th>count</th>\n",
       "    </tr>\n",
       "  </thead>\n",
       "  <tbody>\n",
       "    <tr>\n",
       "      <th>rock</th>\n",
       "      <td>440854</td>\n",
       "    </tr>\n",
       "    <tr>\n",
       "      <th>seen live</th>\n",
       "      <td>343901</td>\n",
       "    </tr>\n",
       "    <tr>\n",
       "      <th>indie</th>\n",
       "      <td>277747</td>\n",
       "    </tr>\n",
       "    <tr>\n",
       "      <th>alternative</th>\n",
       "      <td>245259</td>\n",
       "    </tr>\n",
       "    <tr>\n",
       "      <th>metal</th>\n",
       "      <td>184491</td>\n",
       "    </tr>\n",
       "  </tbody>\n",
       "</table>\n",
       "</div>"
      ],
      "text/plain": [
       "              count\n",
       "rock         440854\n",
       "seen live    343901\n",
       "indie        277747\n",
       "alternative  245259\n",
       "metal        184491"
      ]
     },
     "execution_count": 2,
     "metadata": {},
     "output_type": "execute_result"
    }
   ],
   "source": [
    "nGenres=100\n",
    "genres = pd.read_csv('data/Lastfm-ArtistTags2007/tags.txt', header=None)[0].values[:nGenres]\n",
    "genres = pd.DataFrame([genre.split()[0] for genre in genres], \n",
    "             index = [' '.join(genre.split()[1:]) for genre in genres],\n",
    "            columns = ['count'])\n",
    "genres.head()"
   ]
  },
  {
   "cell_type": "code",
   "execution_count": 3,
   "metadata": {},
   "outputs": [
    {
     "data": {
      "text/html": [
       "<div>\n",
       "<style scoped>\n",
       "    .dataframe tbody tr th:only-of-type {\n",
       "        vertical-align: middle;\n",
       "    }\n",
       "\n",
       "    .dataframe tbody tr th {\n",
       "        vertical-align: top;\n",
       "    }\n",
       "\n",
       "    .dataframe thead th {\n",
       "        text-align: right;\n",
       "    }\n",
       "</style>\n",
       "<table border=\"1\" class=\"dataframe\">\n",
       "  <thead>\n",
       "    <tr style=\"text-align: right;\">\n",
       "      <th></th>\n",
       "      <th>#id</th>\n",
       "      <th>gender</th>\n",
       "      <th>age</th>\n",
       "      <th>country</th>\n",
       "      <th>registered</th>\n",
       "    </tr>\n",
       "  </thead>\n",
       "  <tbody>\n",
       "    <tr>\n",
       "      <th>0</th>\n",
       "      <td>user_000001</td>\n",
       "      <td>m</td>\n",
       "      <td>NaN</td>\n",
       "      <td>Japan</td>\n",
       "      <td>Aug 13, 2006</td>\n",
       "    </tr>\n",
       "    <tr>\n",
       "      <th>1</th>\n",
       "      <td>user_000002</td>\n",
       "      <td>f</td>\n",
       "      <td>NaN</td>\n",
       "      <td>Peru</td>\n",
       "      <td>Feb 24, 2006</td>\n",
       "    </tr>\n",
       "    <tr>\n",
       "      <th>2</th>\n",
       "      <td>user_000003</td>\n",
       "      <td>m</td>\n",
       "      <td>22.0</td>\n",
       "      <td>United States</td>\n",
       "      <td>Oct 30, 2005</td>\n",
       "    </tr>\n",
       "    <tr>\n",
       "      <th>3</th>\n",
       "      <td>user_000004</td>\n",
       "      <td>f</td>\n",
       "      <td>NaN</td>\n",
       "      <td>NaN</td>\n",
       "      <td>Apr 26, 2006</td>\n",
       "    </tr>\n",
       "    <tr>\n",
       "      <th>4</th>\n",
       "      <td>user_000005</td>\n",
       "      <td>m</td>\n",
       "      <td>NaN</td>\n",
       "      <td>Bulgaria</td>\n",
       "      <td>Jun 29, 2006</td>\n",
       "    </tr>\n",
       "  </tbody>\n",
       "</table>\n",
       "</div>"
      ],
      "text/plain": [
       "           #id gender   age        country    registered\n",
       "0  user_000001      m   NaN          Japan  Aug 13, 2006\n",
       "1  user_000002      f   NaN           Peru  Feb 24, 2006\n",
       "2  user_000003      m  22.0  United States  Oct 30, 2005\n",
       "3  user_000004      f   NaN            NaN  Apr 26, 2006\n",
       "4  user_000005      m   NaN       Bulgaria  Jun 29, 2006"
      ]
     },
     "execution_count": 3,
     "metadata": {},
     "output_type": "execute_result"
    }
   ],
   "source": [
    "users = pd.read_csv(\"data/lastfm-dataset-1K/userid-profile.tsv\", sep=\"\\t\")\n",
    "users.head()"
   ]
  },
  {
   "cell_type": "code",
   "execution_count": 4,
   "metadata": {},
   "outputs": [],
   "source": [
    "lastfm = pd.read_csv(\"data/lastfm-dataset-1K/userid-timestamp-artid-artname-traid-traname.tsv\", sep=\"\\t\", \n",
    "           header=None, on_bad_lines='skip')\n",
    "lastfm.columns = ['userid', 'timestamp', 'artistid', 'artistname', 'trackid', 'trackname']\n",
    "nTopUsers=10\n",
    "topusers = lastfm.groupby('userid').size().sort_values()[-nTopUsers:]\n",
    "lastfm = lastfm[[user in topusers for user in lastfm['userid']]]\n",
    "lastfm.timestamp = pd.to_datetime(lastfm['timestamp'])"
   ]
  },
  {
   "cell_type": "code",
   "execution_count": 5,
   "metadata": {},
   "outputs": [
    {
     "name": "stderr",
     "output_type": "stream",
     "text": [
      "C:\\Users\\Chris\\AppData\\Local\\Temp\\ipykernel_3628\\2105939917.py:1: ParserWarning: Falling back to the 'python' engine because the 'c' engine does not support regex separators (separators > 1 char and different from '\\s+' are interpreted as regex); you can avoid this warning by specifying engine='python'.\n",
      "  tags = pd.read_table('data/Lastfm-ArtistTags2007/ArtistTags.dat', sep=\"<sep>\", header=None, on_bad_lines='skip')\n"
     ]
    }
   ],
   "source": [
    "tags = pd.read_table('data/Lastfm-ArtistTags2007/ArtistTags.dat', sep=\"<sep>\", header=None, on_bad_lines='skip')\n",
    "tags.columns = ['artistid', 'artistname', 'tagname', 'rawtagcount']\n",
    "tags = tags[[tag in genres.index for tag in tags['tagname']]]\n",
    "# there are multiple tags/genres assigned to each artist.\n",
    "#  for simplicity, pick the tag/genre most associated with each artist\n",
    "#  by ranking by raw tag count and picking the first\n",
    "tags = tags[tags.groupby(['artistid', 'artistname'])['rawtagcount'].rank(method='first', ascending=False) <= 1]"
   ]
  },
  {
   "cell_type": "code",
   "execution_count": 6,
   "metadata": {},
   "outputs": [
    {
     "name": "stderr",
     "output_type": "stream",
     "text": [
      "C:\\Users\\Chris\\AppData\\Local\\Temp\\ipykernel_3628\\1964548022.py:7: UserWarning: evaluating in Python space because the '*' operator is not supported by numexpr for the bool dtype, use '&' instead.\n",
      "  keeps = (dataset.tagname != dataset.tagname.shift()) * (dataset.userid == dataset.userid.shift())\n"
     ]
    }
   ],
   "source": [
    "dataset = lastfm.merge(tags, on='artistid').sort_values(['userid', 'timestamp'])[['userid', 'timestamp', 'tagname']].reset_index()\n",
    "# assigning numbers to genres. doing so by ranking genres by how popular they are\n",
    "tagdict = dict(zip(genres.index.values, np.arange(len(genres))))\n",
    "dataset['tagnum'] = dataset['tagname'].replace(tagdict)\n",
    "# for some reason, gupta et al only consider the transitions that change genre\n",
    "#  we do so here\n",
    "keeps = (dataset.tagname != dataset.tagname.shift()) * (dataset.userid == dataset.userid.shift())\n",
    "keeps[0] = True\n",
    "dataset = dataset[keeps]"
   ]
  },
  {
   "cell_type": "code",
   "execution_count": 7,
   "metadata": {},
   "outputs": [],
   "source": [
    "nStates = len(genres)\n",
    "nActions = 1\n",
    "K = len(topusers)\n",
    "horizon = 250 # length of trajectories \n",
    "N = int(75*horizon) # fix this so 750 total trajectories like previous papers\n",
    "numTrajPerK = int(N/horizon)\n",
    "nTraj = numTrajPerK * K"
   ]
  },
  {
   "cell_type": "code",
   "execution_count": 8,
   "metadata": {},
   "outputs": [
    {
     "data": {
      "text/plain": [
       "75"
      ]
     },
     "execution_count": 8,
     "metadata": {},
     "output_type": "execute_result"
    }
   ],
   "source": [
    "numTrajPerK"
   ]
  },
  {
   "cell_type": "code",
   "execution_count": 9,
   "metadata": {},
   "outputs": [
    {
     "name": "stdout",
     "output_type": "stream",
     "text": [
      "shape of states before concat first axis: (10, 75, 250)\n",
      "shape of onehots before concat first axis: (10, 75, 250, 100)\n",
      "shape of states after concat first axis: (750, 250)\n",
      "shape of onehots after concat first axis: (750, 250, 100)\n"
     ]
    }
   ],
   "source": [
    "#gupta et al only keep first 3000 transitions\n",
    "#building array of one hots\n",
    "\n",
    "\n",
    "#shuffling dataset\n",
    "dataset = dataset.sample(frac=1).reset_index(drop=True)\n",
    "dataset = dataset.sort_values(by='timestamp')    \n",
    "\n",
    "states = np.array([dataset[dataset.userid == user].tagnum.values[:N] \n",
    "          for user in topusers.index.sort_values()])\n",
    "\n",
    "nextstates = np.array([dataset[dataset.userid == user].tagnum.values[1:N+1] \n",
    "          for user in topusers.index.sort_values()])\n",
    "onehots = np.array([np.eye(nStates)[dataset[dataset.userid == user].tagnum.values][:N] \n",
    "          for user in topusers.index.sort_values()])\n",
    "onehotsp = np.array([np.eye(nStates)[dataset[dataset.userid == user].tagnum.values][1:N+1] \n",
    "          for user in topusers.index.sort_values()])\n",
    "\n",
    "#splitting into trajectories of length horizon\n",
    "states = np.array(np.split(states, numTrajPerK, axis=1)).transpose(1,0,2)\n",
    "nextstates = np.array(np.split(nextstates, numTrajPerK, axis=1)).transpose(1,0,2)\n",
    "onehots = np.array(np.split(onehots, numTrajPerK, axis=1)).transpose(1,0,2,3)\n",
    "onehotsp = np.array(np.split(onehotsp, numTrajPerK, axis=1)).transpose(1,0,2,3)\n",
    "\n",
    "print('shape of states before concat first axis:', states.shape)\n",
    "print('shape of onehots before concat first axis:', onehots.shape)\n",
    "#why concatenate? want 0,..,0,1...,1,...,9...,9\n",
    "labels = np.concatenate([np.ones(numTrajPerK)*k for k in range(K)])\n",
    "states = np.concatenate(states)\n",
    "nextstates = np.concatenate(nextstates)\n",
    "onehots = np.concatenate(onehots)\n",
    "onehotsp = np.concatenate(onehotsp)\n",
    "print('shape of states after concat first axis:', states.shape)\n",
    "print('shape of onehots after concat first axis:', onehots.shape)\n",
    "\n",
    "#inds = np.arange(len(labels)) # Kausik shuffles but we do not. Why temporally shuffle temporal data?\n",
    "#np.random.shuffle(inds)\n",
    "#labels = labels[inds]\n",
    "#states = states[inds]\n",
    "#onehots = onehots[inds]\n",
    "#onehotsp = onehotsp[inds]"
   ]
  },
  {
   "cell_type": "code",
   "execution_count": 10,
   "metadata": {},
   "outputs": [
    {
     "name": "stderr",
     "output_type": "stream",
     "text": [
      "[Parallel(n_jobs=-1)]: Using backend LokyBackend with 16 concurrent workers.\n",
      "[Parallel(n_jobs=-1)]: Done  18 tasks      | elapsed:   31.4s\n",
      "[Parallel(n_jobs=-1)]: Done 168 tasks      | elapsed:  2.2min\n",
      "[Parallel(n_jobs=-1)]: Done 418 tasks      | elapsed:  5.0min\n",
      "[Parallel(n_jobs=-1)]: Done 768 tasks      | elapsed:  9.2min\n",
      "[Parallel(n_jobs=-1)]: Done 1218 tasks      | elapsed: 14.1min\n",
      "[Parallel(n_jobs=-1)]: Done 1768 tasks      | elapsed: 19.9min\n",
      "[Parallel(n_jobs=-1)]: Done 2418 tasks      | elapsed: 27.0min\n",
      "[Parallel(n_jobs=-1)]: Done 2500 out of 2500 | elapsed: 28.0min finished\n",
      "[Parallel(n_jobs=-1)]: Using backend LokyBackend with 16 concurrent workers.\n",
      "[Parallel(n_jobs=-1)]: Done  18 tasks      | elapsed:   19.7s\n",
      "[Parallel(n_jobs=-1)]: Done 168 tasks      | elapsed:  2.1min\n",
      "[Parallel(n_jobs=-1)]: Done 418 tasks      | elapsed:  5.1min\n",
      "[Parallel(n_jobs=-1)]: Done 768 tasks      | elapsed:  8.7min\n",
      "[Parallel(n_jobs=-1)]: Done 1218 tasks      | elapsed: 13.5min\n",
      "[Parallel(n_jobs=-1)]: Done 1768 tasks      | elapsed: 20.6min\n",
      "[Parallel(n_jobs=-1)]: Done 2418 tasks      | elapsed: 33.9min\n",
      "[Parallel(n_jobs=-1)]: Done 2500 out of 2500 | elapsed: 35.6min finished\n",
      "[Parallel(n_jobs=-1)]: Using backend LokyBackend with 16 concurrent workers.\n",
      "[Parallel(n_jobs=-1)]: Done  18 tasks      | elapsed:   32.3s\n",
      "[Parallel(n_jobs=-1)]: Done 168 tasks      | elapsed:  3.6min\n",
      "[Parallel(n_jobs=-1)]: Done 418 tasks      | elapsed:  8.6min\n",
      "[Parallel(n_jobs=-1)]: Done 768 tasks      | elapsed: 16.1min\n",
      "[Parallel(n_jobs=-1)]: Done 1218 tasks      | elapsed: 25.1min\n",
      "[Parallel(n_jobs=-1)]: Done 1768 tasks      | elapsed: 36.6min\n",
      "[Parallel(n_jobs=-1)]: Done 2418 tasks      | elapsed: 50.2min\n",
      "[Parallel(n_jobs=-1)]: Done 2500 out of 2500 | elapsed: 51.7min finished\n",
      "[Parallel(n_jobs=-1)]: Using backend LokyBackend with 16 concurrent workers.\n",
      "[Parallel(n_jobs=-1)]: Done  18 tasks      | elapsed:   28.9s\n",
      "[Parallel(n_jobs=-1)]: Done 168 tasks      | elapsed:  3.7min\n",
      "[Parallel(n_jobs=-1)]: Done 418 tasks      | elapsed:  8.9min\n",
      "[Parallel(n_jobs=-1)]: Done 768 tasks      | elapsed: 16.3min\n",
      "[Parallel(n_jobs=-1)]: Done 1218 tasks      | elapsed: 25.9min\n",
      "[Parallel(n_jobs=-1)]: Done 1768 tasks      | elapsed: 36.8min\n",
      "[Parallel(n_jobs=-1)]: Done 2418 tasks      | elapsed: 50.3min\n",
      "[Parallel(n_jobs=-1)]: Done 2500 out of 2500 | elapsed: 52.0min finished\n",
      "[Parallel(n_jobs=-1)]: Using backend LokyBackend with 16 concurrent workers.\n",
      "[Parallel(n_jobs=-1)]: Done  18 tasks      | elapsed:   29.1s\n",
      "[Parallel(n_jobs=-1)]: Done 168 tasks      | elapsed:  3.8min\n",
      "[Parallel(n_jobs=-1)]: Done 418 tasks      | elapsed:  8.8min\n",
      "[Parallel(n_jobs=-1)]: Done 768 tasks      | elapsed: 15.8min\n",
      "[Parallel(n_jobs=-1)]: Done 1218 tasks      | elapsed: 25.4min\n",
      "[Parallel(n_jobs=-1)]: Done 1768 tasks      | elapsed: 36.9min\n",
      "[Parallel(n_jobs=-1)]: Done 2418 tasks      | elapsed: 47.6min\n",
      "[Parallel(n_jobs=-1)]: Done 2500 out of 2500 | elapsed: 48.9min finished\n",
      "[Parallel(n_jobs=-1)]: Using backend LokyBackend with 16 concurrent workers.\n",
      "[Parallel(n_jobs=-1)]: Done  18 tasks      | elapsed:   22.5s\n",
      "[Parallel(n_jobs=-1)]: Done 168 tasks      | elapsed:  2.8min\n",
      "[Parallel(n_jobs=-1)]: Done 418 tasks      | elapsed:  7.0min\n",
      "[Parallel(n_jobs=-1)]: Done 768 tasks      | elapsed: 12.6min\n",
      "[Parallel(n_jobs=-1)]: Done 1218 tasks      | elapsed: 20.0min\n",
      "[Parallel(n_jobs=-1)]: Done 1768 tasks      | elapsed: 26.2min\n",
      "[Parallel(n_jobs=-1)]: Done 2418 tasks      | elapsed: 30.8min\n",
      "[Parallel(n_jobs=-1)]: Done 2500 out of 2500 | elapsed: 31.4min finished\n",
      "[Parallel(n_jobs=-1)]: Using backend LokyBackend with 16 concurrent workers.\n",
      "[Parallel(n_jobs=-1)]: Done  18 tasks      | elapsed:   12.6s\n",
      "[Parallel(n_jobs=-1)]: Done 168 tasks      | elapsed:  1.2min\n",
      "[Parallel(n_jobs=-1)]: Done 418 tasks      | elapsed:  3.0min\n",
      "[Parallel(n_jobs=-1)]: Done 768 tasks      | elapsed:  5.5min\n",
      "[Parallel(n_jobs=-1)]: Done 1218 tasks      | elapsed:  8.7min\n",
      "[Parallel(n_jobs=-1)]: Done 1768 tasks      | elapsed: 12.6min\n",
      "[Parallel(n_jobs=-1)]: Done 2418 tasks      | elapsed: 17.2min\n",
      "[Parallel(n_jobs=-1)]: Done 2500 out of 2500 | elapsed: 17.7min finished\n",
      "[Parallel(n_jobs=-1)]: Using backend LokyBackend with 16 concurrent workers.\n",
      "[Parallel(n_jobs=-1)]: Done  18 tasks      | elapsed:   12.8s\n",
      "[Parallel(n_jobs=-1)]: Done 168 tasks      | elapsed:  1.2min\n",
      "[Parallel(n_jobs=-1)]: Done 418 tasks      | elapsed:  3.0min\n",
      "[Parallel(n_jobs=-1)]: Done 768 tasks      | elapsed:  5.5min\n",
      "[Parallel(n_jobs=-1)]: Done 1218 tasks      | elapsed:  8.6min\n",
      "[Parallel(n_jobs=-1)]: Done 1768 tasks      | elapsed: 12.5min\n",
      "[Parallel(n_jobs=-1)]: Done 2418 tasks      | elapsed: 17.0min\n",
      "[Parallel(n_jobs=-1)]: Done 2500 out of 2500 | elapsed: 17.6min finished\n",
      "[Parallel(n_jobs=-1)]: Using backend LokyBackend with 16 concurrent workers.\n",
      "[Parallel(n_jobs=-1)]: Done  18 tasks      | elapsed:   13.1s\n",
      "[Parallel(n_jobs=-1)]: Done 168 tasks      | elapsed:  1.2min\n",
      "[Parallel(n_jobs=-1)]: Done 418 tasks      | elapsed:  3.0min\n",
      "[Parallel(n_jobs=-1)]: Done 768 tasks      | elapsed:  5.5min\n",
      "[Parallel(n_jobs=-1)]: Done 1218 tasks      | elapsed:  8.6min\n",
      "[Parallel(n_jobs=-1)]: Done 1768 tasks      | elapsed: 12.5min\n",
      "[Parallel(n_jobs=-1)]: Done 2418 tasks      | elapsed: 17.0min\n",
      "[Parallel(n_jobs=-1)]: Done 2500 out of 2500 | elapsed: 17.6min finished\n",
      "[Parallel(n_jobs=-1)]: Using backend LokyBackend with 16 concurrent workers.\n",
      "[Parallel(n_jobs=-1)]: Done  18 tasks      | elapsed:   12.7s\n",
      "[Parallel(n_jobs=-1)]: Done 168 tasks      | elapsed:  1.3min\n",
      "[Parallel(n_jobs=-1)]: Done 418 tasks      | elapsed:  3.0min\n",
      "[Parallel(n_jobs=-1)]: Done 768 tasks      | elapsed:  5.5min\n",
      "[Parallel(n_jobs=-1)]: Done 1218 tasks      | elapsed:  8.6min\n",
      "[Parallel(n_jobs=-1)]: Done 1768 tasks      | elapsed: 12.5min\n",
      "[Parallel(n_jobs=-1)]: Done 2418 tasks      | elapsed: 17.0min\n",
      "[Parallel(n_jobs=-1)]: Done 2500 out of 2500 | elapsed: 17.6min finished\n"
     ]
    }
   ],
   "source": [
    "nEM = 2500\n",
    "tol=1e-20 # set lower than usual but doesn't seem to matter\n",
    "nClustMax=10\n",
    "alphaPrior = 1.0/nClustMax\n",
    "\n",
    "Xt=states\n",
    "nStates=nGenres\n",
    "\n",
    "nTrials = 10\n",
    "\n",
    "best_err = 1.0\n",
    "\n",
    "predictLabelsC_best = []\n",
    "\n",
    "for s in range(nTrials):\n",
    "\n",
    "    zHat, muHat, qHat, pHat, steps, logL = doVEMmultiPar(Xt, nClustMax, nStates, tol, nEM, max_iters=1000,alpha=alphaPrior)\n",
    "\n",
    "    trueLabels = labels.astype('int64')\n",
    "    best_assignment, zHat_c, qHat_c, muHat_c, pHat_c = find_best_clustermatch(trueLabels.T, zHat, muHat, qHat, pHat)  # uses HUNGARIAN ALGORITHM to assign best permutation\n",
    "        \n",
    "    predictLabels = zHat_c.argmax(axis=1)\n",
    "    trueLabelsC = trueLabels\n",
    "    predictLabelsC = predictLabels\n",
    "    error = 1.0-sum(trueLabels==predictLabels)/len(predictLabels)\n",
    "    if error<best_err:\n",
    "        predictLabelsC_best = predictLabelsC\n",
    "        best_err=error"
   ]
  },
  {
   "cell_type": "code",
   "execution_count": null,
   "metadata": {},
   "outputs": [],
   "source": []
  },
  {
   "cell_type": "code",
   "execution_count": 11,
   "metadata": {},
   "outputs": [],
   "source": [
    "#from sklearn.metrics import * \n",
    "#adj_rand = adjusted_rand_score(trueLabels,predictLabels)\n",
    "#print(adj_rand)"
   ]
  },
  {
   "cell_type": "code",
   "execution_count": 12,
   "metadata": {},
   "outputs": [],
   "source": [
    "#rand = rand_score(trueLabels,predictLabels)\n",
    "#print(rand)"
   ]
  },
  {
   "cell_type": "code",
   "execution_count": 14,
   "metadata": {},
   "outputs": [
    {
     "data": {
      "image/png": "[encoded data removed]",
      "text/plain": [
       "<Figure size 500x400 with 2 Axes>"
      ]
     },
     "metadata": {},
     "output_type": "display_data"
    }
   ],
   "source": [
    "trueLabelsC = trueLabels\n",
    "predictLabelsC = predictLabels\n",
    "fig =plt.figure(figsize=(5,4))\n",
    "ax = fig.add_subplot(111)\n",
    "\n",
    "disp=ConfusionMatrixDisplay.from_predictions(trueLabelsC,predictLabelsC_best,normalize='true',values_format='.2f',cmap=\"plasma\",ax=ax,text_kw={\"fontsize\":8})#,cmap=plt.cm.Blues)\n",
    "disp.ax_.set_title('${\\\\tt Last.fm}$ top 10 user prediction accuracy',fontsize=10)\n",
    "disp.ax_.set_xlabel(\"predicted user\",fontsize=12)\n",
    "disp.ax_.set_ylabel(\"true user\",fontsize=12)\n",
    "\n",
    "plt.savefig('figs/lastfm_confusion.pdf',format='pdf')"
   ]
  },
  {
   "cell_type": "code",
   "execution_count": 15,
   "metadata": {},
   "outputs": [],
   "source": [
    "trajLengths = [20, 40, 60, 80, 100]\n",
    "nTrials=10\n",
    "randscores = np.zeros([len(trajLengths),nTrials])\n",
    "adjrandscores = np.zeros([len(trajLengths),nTrials])\n",
    "errs = np.zeros([len(trajLengths),nTrials])"
   ]
  },
  {
   "cell_type": "code",
   "execution_count": 16,
   "metadata": {},
   "outputs": [
    {
     "name": "stderr",
     "output_type": "stream",
     "text": [
      "[Parallel(n_jobs=-1)]: Using backend LokyBackend with 16 concurrent workers.\n",
      "[Parallel(n_jobs=-1)]: Done  18 tasks      | elapsed:    8.3s\n",
      "[Parallel(n_jobs=-1)]: Done 168 tasks      | elapsed:   36.0s\n",
      "[Parallel(n_jobs=-1)]: Done 418 tasks      | elapsed:  1.5min\n",
      "[Parallel(n_jobs=-1)]: Done 768 tasks      | elapsed:  2.6min\n",
      "[Parallel(n_jobs=-1)]: Done 1218 tasks      | elapsed:  4.1min\n",
      "[Parallel(n_jobs=-1)]: Done 1768 tasks      | elapsed:  5.8min\n"
     ]
    }
   ],
   "source": [
    "for s in range(len(trajLengths)):\n",
    "    for ss in range(nTrials):\n",
    "        horizon = trajLengths[s]\n",
    "        N = int(75*horizon) # fixed number of trajectories \n",
    "        numTrajPerK = int(N/horizon)\n",
    "        nTraj = numTrajPerK * K\n",
    "        #gupta et al only keep first 3000 transitions\n",
    "        #building array of one hots\n",
    "\n",
    "        #shuffling dataset\n",
    "        dataset = dataset.sample(frac=1).reset_index(drop=True)\n",
    "        dataset = dataset.sort_values(by='timestamp')    \n",
    "\n",
    "        start_i = 0# np.random.randint(0,3*N)\n",
    "        states = np.array([dataset[dataset.userid == user].tagnum.values[start_i:N+start_i] for user in topusers.index.sort_values()])\n",
    "\n",
    "\n",
    "        #splitting into trajectories of length horizon\n",
    "        states = np.array(np.split(states, numTrajPerK, axis=1)).transpose(1,0,2)\n",
    "\n",
    "        #why concatenate? want 0,..,0,1...,1,...,9...,9\n",
    "        labels = np.concatenate([np.ones(numTrajPerK)*k for k in range(K)])\n",
    "        states = np.concatenate(states)\n",
    "        \n",
    "        nEM = 2500\n",
    "        tol=1e-20 # lower than usual but doesn't seem to matter\n",
    "        nClustMax=10\n",
    "        alphaPrior = 1.0/nClustMax\n",
    "        Xt=states\n",
    "        nStates=nGenres\n",
    "\n",
    "        zHat, muHat, qHat, pHat, steps, logL = doVEMmultiPar(Xt, nClustMax, nStates, tol, nEM, max_iters=1000,alpha=alphaPrior)\n",
    "\n",
    "        trueLabels = labels.astype('int64')\n",
    "        \n",
    "        best_assignment, zHat_c, qHat_c, muHat_c, pHat_c = find_best_clustermatch(trueLabels.T, zHat, muHat, qHat, pHat)  \n",
    "        predictLabels = zHat_c.argmax(axis=1)\n",
    "\n",
    "        adj_rand = adjusted_rand_score(trueLabels,predictLabels)\n",
    "        rand = rand_score(trueLabels,predictLabels)\n",
    "        err=1.0-sum(trueLabels==predictLabels)/len(predictLabels)\n",
    "        randscores[s,ss] = rand\n",
    "        adjrandscores[s,ss]=adj_rand\n",
    "        errs[s,ss]=err\n"
   ]
  },
  {
   "cell_type": "code",
   "execution_count": null,
   "metadata": {},
   "outputs": [],
   "source": [
    "#plt.plot(trajLengths,np.mean(errs,axis=1))\n",
    "colors = np.array(['#648FFF', '#785EF0', '#DC267F', '#FE6100', '#FFB000'])\n",
    "plt.figure(figsize=(5,4))\n",
    "plt.plot(trajLengths,np.min(errs,axis=1),marker='o',color=colors[0]) # take best of our attempts, also note there isn't much variance in acc\n",
    "\n",
    "plt.xlabel('trajectory length, $T$',fontsize=12)\n",
    "plt.ylabel('clustering accuracy',fontsize=12)\n",
    "plt.title('${\\\\tt Last.fm}$ top 10 user prediction',fontsize=10)\n",
    "# x/y values scraped from Kausik's figure \n",
    "plt.plot([20, 30.2009702009702, 40.06930006930007, 49.937629937629936, 60.02772002772003, 70.22869022869023, 80.20790020790021, 89.96534996534996, 100], [0.8319852941176471, 0.7982077205882353, 0.7805147058823529, 0.7686121323529412, 0.72421875, 0.6859375000000001, 0.6907628676470589, 0.6920496323529413, 0.6814338235294118],marker='s',color=colors[2])\n",
    "plt.legend(['VEM (our method)','Kausik et al. (with subspaces)'])\n",
    "plt.savefig('figs/lastfm_10perform.pdf')"
   ]
  },
  {
   "cell_type": "code",
   "execution_count": null,
   "metadata": {},
   "outputs": [],
   "source": [
    "with open('temp/fig4data.npy', 'wb') as f:\n",
    "    np.save(f,errs)\n",
    "    np.save(f,trajLengths)\n",
    "    np.save(f,trueLabelsC)\n",
    "    np.save(f,predictLabelsC)"
   ]
  },
  {
   "cell_type": "code",
   "execution_count": null,
   "metadata": {},
   "outputs": [],
   "source": []
  },
  {
   "cell_type": "code",
   "execution_count": null,
   "metadata": {},
   "outputs": [],
   "source": []
  }
 ],
 "metadata": {
  "kernelspec": {
   "display_name": "base",
   "language": "python",
   "name": "python3"
  },
  "language_info": {
   "codemirror_mode": {
    "name": "ipython",
    "version": 3
   },
   "file_extension": ".py",
   "mimetype": "text/x-python",
   "name": "python",
   "nbconvert_exporter": "python",
   "pygments_lexer": "ipython3",
   "version": "3.11.5"
  }
 },
 "nbformat": 4,
 "nbformat_minor": 2
}
