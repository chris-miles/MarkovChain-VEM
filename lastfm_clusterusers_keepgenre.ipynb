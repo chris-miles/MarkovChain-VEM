{
 "cells": [
  {
   "cell_type": "code",
   "execution_count": 1,
   "metadata": {
    "execution": {
     "iopub.execute_input": "2024-06-01T07:04:17.633094Z",
     "iopub.status.busy": "2024-06-01T07:04:17.632278Z",
     "iopub.status.idle": "2024-06-01T07:04:18.761491Z",
     "shell.execute_reply": "2024-06-01T07:04:18.760765Z"
    }
   },
   "outputs": [],
   "source": [
    "import sys\n",
    "sys.path.append('./code')\n",
    "sys.path.append('./data')\n",
    "\n",
    "import sys\n",
    "import pandas as pd\n",
    "import numpy as np\n",
    "import matplotlib.pyplot as plt\n",
    "from clustering import *\n",
    "\n",
    "np.random.seed(12345)\n",
    "\n",
    "plt.rcParams['pdf.fonttype'] = 42\n",
    "plt.rcParams['ps.fonttype'] = 42\n",
    "plt.rcParams['axes.linewidth'] = 1.25\n",
    "\n",
    "#modified from Kausik et al's code"
   ]
  },
  {
   "cell_type": "code",
   "execution_count": 2,
   "metadata": {
    "execution": {
     "iopub.execute_input": "2024-06-01T07:04:18.766708Z",
     "iopub.status.busy": "2024-06-01T07:04:18.766548Z",
     "iopub.status.idle": "2024-06-01T07:04:43.468712Z",
     "shell.execute_reply": "2024-06-01T07:04:43.467983Z"
    }
   },
   "outputs": [],
   "source": [
    "nGenres=100\n",
    "genres = pd.read_csv('data/Lastfm-ArtistTags2007/tags.txt', header=None)[0].values[:nGenres]\n",
    "genres = pd.DataFrame([genre.split()[0] for genre in genres], \n",
    "             index = [' '.join(genre.split()[1:]) for genre in genres],\n",
    "            columns = ['count'])\n",
    "genres.head()\n",
    "users = pd.read_csv(\"data/lastfm-dataset-1K/userid-profile.tsv\", sep=\"\\t\")\n",
    "users.head()\n",
    "lastfm = pd.read_csv(\"data/lastfm-dataset-1K/userid-timestamp-artid-artname-traid-traname.tsv\", sep=\"\\t\", \n",
    "           header=None, on_bad_lines='skip')\n",
    "lastfm.columns = ['userid', 'timestamp', 'artistid', 'artistname', 'trackid', 'trackname']\n"
   ]
  },
  {
   "cell_type": "code",
   "execution_count": 3,
   "metadata": {
    "execution": {
     "iopub.execute_input": "2024-06-01T07:04:43.473683Z",
     "iopub.status.busy": "2024-06-01T07:04:43.473558Z",
     "iopub.status.idle": "2024-06-01T07:04:59.940066Z",
     "shell.execute_reply": "2024-06-01T07:04:59.939418Z"
    }
   },
   "outputs": [],
   "source": [
    "nTopUsers=500 # may get reduced later\n",
    "topusers = lastfm.groupby('userid').size().sort_values()[-nTopUsers:]\n",
    "lastfm = lastfm[[user in topusers for user in lastfm['userid']]]\n",
    "lastfm.timestamp = pd.to_datetime(lastfm['timestamp'])"
   ]
  },
  {
   "cell_type": "code",
   "execution_count": 4,
   "metadata": {
    "execution": {
     "iopub.execute_input": "2024-06-01T07:04:59.944644Z",
     "iopub.status.busy": "2024-06-01T07:04:59.944538Z",
     "iopub.status.idle": "2024-06-01T07:05:03.251498Z",
     "shell.execute_reply": "2024-06-01T07:05:03.250908Z"
    }
   },
   "outputs": [
    {
     "name": "stderr",
     "output_type": "stream",
     "text": [
      "/tmp/cemiles/31573679/ipykernel_841286/2105939917.py:1: ParserWarning: Falling back to the 'python' engine because the 'c' engine does not support regex separators (separators > 1 char and different from '\\s+' are interpreted as regex); you can avoid this warning by specifying engine='python'.\n",
      "  tags = pd.read_table('data/Lastfm-ArtistTags2007/ArtistTags.dat', sep=\"<sep>\", header=None, on_bad_lines='skip')\n"
     ]
    }
   ],
   "source": [
    "tags = pd.read_table('data/Lastfm-ArtistTags2007/ArtistTags.dat', sep=\"<sep>\", header=None, on_bad_lines='skip')\n",
    "tags.columns = ['artistid', 'artistname', 'tagname', 'rawtagcount']\n",
    "tags = tags[[tag in genres.index for tag in tags['tagname']]]\n",
    "# there are multiple tags/genres assigned to each artist.\n",
    "#  for simplicity, pick the tag/genre most associated with each artist\n",
    "#  by ranking by raw tag count and picking the first\n",
    "tags = tags[tags.groupby(['artistid', 'artistname'])['rawtagcount'].rank(method='first', ascending=False) <= 1]"
   ]
  },
  {
   "cell_type": "code",
   "execution_count": 5,
   "metadata": {
    "execution": {
     "iopub.execute_input": "2024-06-01T07:05:03.256070Z",
     "iopub.status.busy": "2024-06-01T07:05:03.255954Z",
     "iopub.status.idle": "2024-06-01T07:05:46.380721Z",
     "shell.execute_reply": "2024-06-01T07:05:46.379928Z"
    }
   },
   "outputs": [],
   "source": [
    "dataset = lastfm.merge(tags, on='artistid').sort_values(['userid', 'timestamp'])[['userid', 'timestamp', 'tagname']].reset_index()\n",
    "# assigning numbers to genres. doing so by ranking genres by how popular they are\n",
    "tagdict = dict(zip(genres.index.values, np.arange(len(genres))))\n",
    "dataset['tagnum'] = dataset['tagname'].replace(tagdict)\n",
    "# for some reason, gupta et al only consider the transitions that change genre\n",
    "#  we do so here\n",
    "\n",
    "# WE NOW DO NOT SKIP SONG CHANGES!!\n",
    "#keeps = (dataset.tagname != dataset.tagname.shift()) * (dataset.userid == #dataset.userid.shift())\n",
    "#keeps[0] = True\n",
    "#dataset = dataset[keeps]"
   ]
  },
  {
   "cell_type": "code",
   "execution_count": 6,
   "metadata": {
    "execution": {
     "iopub.execute_input": "2024-06-01T07:05:46.385575Z",
     "iopub.status.busy": "2024-06-01T07:05:46.385453Z",
     "iopub.status.idle": "2024-06-01T07:05:47.178919Z",
     "shell.execute_reply": "2024-06-01T07:05:47.178375Z"
    }
   },
   "outputs": [
    {
     "data": {
      "image/png": "[encoded data removed]",
      "text/plain": [
       "<Figure size 432x288 with 1 Axes>"
      ]
     },
     "metadata": {
      "needs_background": "light"
     },
     "output_type": "display_data"
    }
   ],
   "source": [
    "playCounts = dataset.groupby('userid').size()\n",
    "plt.plot(np.sort(playCounts))\n",
    "plt.yscale('log')"
   ]
  },
  {
   "cell_type": "code",
   "execution_count": 7,
   "metadata": {
    "execution": {
     "iopub.execute_input": "2024-06-01T07:05:47.184429Z",
     "iopub.status.busy": "2024-06-01T07:05:47.184326Z",
     "iopub.status.idle": "2024-06-01T07:05:47.187473Z",
     "shell.execute_reply": "2024-06-01T07:05:47.186972Z"
    }
   },
   "outputs": [],
   "source": [
    "horizon = 10000 # length of trajectories \n",
    "aboveThresh = playCounts.index[playCounts.values>horizon]"
   ]
  },
  {
   "cell_type": "code",
   "execution_count": 8,
   "metadata": {
    "execution": {
     "iopub.execute_input": "2024-06-01T07:05:47.189783Z",
     "iopub.status.busy": "2024-06-01T07:05:47.189682Z",
     "iopub.status.idle": "2024-06-01T07:05:48.457120Z",
     "shell.execute_reply": "2024-06-01T07:05:48.456519Z"
    }
   },
   "outputs": [],
   "source": [
    "dataset=dataset[dataset.userid.isin(aboveThresh)]\n",
    "topusers = dataset.groupby('userid').size().sort_values()"
   ]
  },
  {
   "cell_type": "code",
   "execution_count": 9,
   "metadata": {
    "execution": {
     "iopub.execute_input": "2024-06-01T07:05:48.461663Z",
     "iopub.status.busy": "2024-06-01T07:05:48.461550Z",
     "iopub.status.idle": "2024-06-01T07:05:48.465904Z",
     "shell.execute_reply": "2024-06-01T07:05:48.465419Z"
    }
   },
   "outputs": [
    {
     "data": {
      "text/plain": [
       "(460,)"
      ]
     },
     "execution_count": 9,
     "metadata": {},
     "output_type": "execute_result"
    }
   ],
   "source": [
    "np.shape(topusers)"
   ]
  },
  {
   "cell_type": "code",
   "execution_count": 10,
   "metadata": {
    "execution": {
     "iopub.execute_input": "2024-06-01T07:05:48.470050Z",
     "iopub.status.busy": "2024-06-01T07:05:48.469958Z",
     "iopub.status.idle": "2024-06-01T07:05:48.473019Z",
     "shell.execute_reply": "2024-06-01T07:05:48.472459Z"
    }
   },
   "outputs": [],
   "source": [
    "nStates = len(genres)\n",
    "nActions = 1\n",
    "K = len(topusers)\n",
    "N = int(1*horizon) \n",
    "numTrajPerK = int(N/horizon)\n",
    "nTraj = numTrajPerK * K"
   ]
  },
  {
   "cell_type": "code",
   "execution_count": 11,
   "metadata": {
    "execution": {
     "iopub.execute_input": "2024-06-01T07:05:48.474932Z",
     "iopub.status.busy": "2024-06-01T07:05:48.474810Z",
     "iopub.status.idle": "2024-06-01T07:20:38.644252Z",
     "shell.execute_reply": "2024-06-01T07:20:38.643510Z"
    }
   },
   "outputs": [
    {
     "name": "stdout",
     "output_type": "stream",
     "text": [
      "shape of states before concat first axis: (460, 1, 10000)\n",
      "shape of onehots before concat first axis: (460, 1, 10000, 100)\n",
      "shape of states after concat first axis: (460, 10000)\n",
      "shape of onehots after concat first axis: (460, 10000, 100)\n"
     ]
    }
   ],
   "source": [
    "\n",
    "#shuffling dataset\n",
    "dataset = dataset.sample(frac=1).reset_index(drop=True)\n",
    "dataset = dataset.sort_values(by='timestamp')    \n",
    "\n",
    "states = np.array([dataset[dataset.userid == user].tagnum.values[:N] \n",
    "          for user in topusers.index.sort_values()])\n",
    "\n",
    "nextstates = np.array([dataset[dataset.userid == user].tagnum.values[1:N+1] \n",
    "          for user in topusers.index.sort_values()])\n",
    "onehots = np.array([np.eye(nStates)[dataset[dataset.userid == user].tagnum.values][:N] \n",
    "          for user in topusers.index.sort_values()])\n",
    "onehotsp = np.array([np.eye(nStates)[dataset[dataset.userid == user].tagnum.values][1:N+1] \n",
    "          for user in topusers.index.sort_values()])\n",
    "\n",
    "#splitting into trajectories of length horizon\n",
    "states = np.array(np.split(states, numTrajPerK, axis=1)).transpose(1,0,2)\n",
    "nextstates = np.array(np.split(nextstates, numTrajPerK, axis=1)).transpose(1,0,2)\n",
    "onehots = np.array(np.split(onehots, numTrajPerK, axis=1)).transpose(1,0,2,3)\n",
    "onehotsp = np.array(np.split(onehotsp, numTrajPerK, axis=1)).transpose(1,0,2,3)\n",
    "\n",
    "print('shape of states before concat first axis:', states.shape)\n",
    "print('shape of onehots before concat first axis:', onehots.shape)\n",
    "#why concatenate? want 0,..,0,1...,1,...,9...,9\n",
    "labels = np.concatenate([np.ones(numTrajPerK)*k for k in range(K)])\n",
    "states = np.concatenate(states)\n",
    "nextstates = np.concatenate(nextstates)\n",
    "onehots = np.concatenate(onehots)\n",
    "onehotsp = np.concatenate(onehotsp)\n",
    "print('shape of states after concat first axis:', states.shape)\n",
    "print('shape of onehots after concat first axis:', onehots.shape)\n",
    "\n",
    "#shuffling\n",
    "#inds = np.arange(len(labels)) # Kausik shuffles but we do not. Why temporally shuffle temporal data?\n",
    "#np.random.shuffle(inds)\n",
    "#labels = labels[inds]\n",
    "#states = states[inds]\n",
    "#onehots = onehots[inds]\n",
    "#onehotsp = onehotsp[inds]"
   ]
  },
  {
   "cell_type": "code",
   "execution_count": 12,
   "metadata": {
    "execution": {
     "iopub.execute_input": "2024-06-01T07:20:38.648846Z",
     "iopub.status.busy": "2024-06-01T07:20:38.648679Z",
     "iopub.status.idle": "2024-06-01T11:15:46.569181Z",
     "shell.execute_reply": "2024-06-01T11:15:46.567411Z"
    }
   },
   "outputs": [
    {
     "name": "stderr",
     "output_type": "stream",
     "text": [
      "[Parallel(n_jobs=-1)]: Using backend LokyBackend with 16 concurrent workers.\n",
      "[Parallel(n_jobs=-1)]: Done  18 tasks      | elapsed:  1.5min\n",
      "[Parallel(n_jobs=-1)]: Done 168 tasks      | elapsed:  8.5min\n",
      "[Parallel(n_jobs=-1)]: Done 418 tasks      | elapsed: 20.4min\n",
      "[Parallel(n_jobs=-1)]: Done 768 tasks      | elapsed: 36.8min\n",
      "[Parallel(n_jobs=-1)]: Done 1218 tasks      | elapsed: 58.2min\n",
      "[Parallel(n_jobs=-1)]: Done 1768 tasks      | elapsed: 84.1min\n",
      "[Parallel(n_jobs=-1)]: Done 2418 tasks      | elapsed: 114.6min\n",
      "[Parallel(n_jobs=-1)]: Done 3168 tasks      | elapsed: 149.4min\n",
      "[Parallel(n_jobs=-1)]: Done 4018 tasks      | elapsed: 188.2min\n",
      "[Parallel(n_jobs=-1)]: Done 4968 tasks      | elapsed: 233.5min\n",
      "[Parallel(n_jobs=-1)]: Done 5000 out of 5000 | elapsed: 235.1min finished\n"
     ]
    }
   ],
   "source": [
    "nEM = 5000\n",
    "nClustMax=100\n",
    "\n",
    "Xt=states\n",
    "nStates=nGenres\n",
    "\n",
    "zHat, muHat, qHat, pHat, steps, logL = doVEMmultiPar(Xt, nClustMax, nStates, nEM=nEM)"
   ]
  },
  {
   "cell_type": "code",
   "execution_count": 13,
   "metadata": {
    "execution": {
     "iopub.execute_input": "2024-06-01T11:15:46.574756Z",
     "iopub.status.busy": "2024-06-01T11:15:46.574437Z",
     "iopub.status.idle": "2024-06-01T11:15:47.631574Z",
     "shell.execute_reply": "2024-06-01T11:15:47.630319Z"
    }
   },
   "outputs": [],
   "source": [
    "nSims=10000\n",
    "\n",
    "def MC_counts(muHat,nTrajs, nSims):\n",
    "    counts = np.zeros(nSims)\n",
    "    for i in range(nSims):\n",
    "        dirchsamp = np.random.dirichlet(muHat,1)\n",
    "        rng = np.random.default_rng()\n",
    "        labelsamp = rng.multinomial(nTrajs,dirchsamp,size=1)\n",
    "        counts[i]= np.sum(labelsamp>0)\n",
    "    return counts\n",
    "\n",
    "N, nClusters = np.shape(zHat)    \n",
    "mc_counts = MC_counts(muHat,N,nSims)\n"
   ]
  },
  {
   "cell_type": "code",
   "execution_count": 14,
   "metadata": {
    "execution": {
     "iopub.execute_input": "2024-06-01T11:15:47.638087Z",
     "iopub.status.busy": "2024-06-01T11:15:47.637690Z",
     "iopub.status.idle": "2024-06-01T11:15:47.699312Z",
     "shell.execute_reply": "2024-06-01T11:15:47.698510Z"
    }
   },
   "outputs": [],
   "source": [
    "with open('temp/lastfm_clustusers_keepsamegenre.npy', 'wb') as f:\n",
    "    np.save(f,mc_counts)\n",
    "    np.save(f,muHat)\n",
    "    np.save(f,zHat)\n",
    "    np.save(f,states)\n"
   ]
  },
  {
   "cell_type": "code",
   "execution_count": 15,
   "metadata": {
    "execution": {
     "iopub.execute_input": "2024-06-01T11:15:47.704684Z",
     "iopub.status.busy": "2024-06-01T11:15:47.704511Z",
     "iopub.status.idle": "2024-06-01T11:15:47.708671Z",
     "shell.execute_reply": "2024-06-01T11:15:47.707987Z"
    }
   },
   "outputs": [],
   "source": [
    "clustSums = np.sum(zHat,axis=0)\n",
    "nonZeroClust = clustSums[clustSums>0]"
   ]
  },
  {
   "cell_type": "code",
   "execution_count": 16,
   "metadata": {
    "execution": {
     "iopub.execute_input": "2024-06-01T11:15:47.711753Z",
     "iopub.status.busy": "2024-06-01T11:15:47.711604Z",
     "iopub.status.idle": "2024-06-01T11:15:47.717335Z",
     "shell.execute_reply": "2024-06-01T11:15:47.716702Z"
    }
   },
   "outputs": [
    {
     "data": {
      "text/plain": [
       "83"
      ]
     },
     "execution_count": 16,
     "metadata": {},
     "output_type": "execute_result"
    }
   ],
   "source": [
    "np.sum(np.sum(zHat,axis=0)>0)"
   ]
  },
  {
   "cell_type": "code",
   "execution_count": 17,
   "metadata": {
    "execution": {
     "iopub.execute_input": "2024-06-01T11:15:47.719838Z",
     "iopub.status.busy": "2024-06-01T11:15:47.719693Z",
     "iopub.status.idle": "2024-06-01T11:15:48.804027Z",
     "shell.execute_reply": "2024-06-01T11:15:48.803316Z"
    }
   },
   "outputs": [
    {
     "data": {
      "image/png": "[encoded data removed]",
      "text/plain": [
       "<Figure size 360x360 with 2 Axes>"
      ]
     },
     "metadata": {
      "needs_background": "light"
     },
     "output_type": "display_data"
    }
   ],
   "source": [
    "colors = np.array(['#648FFF', '#785EF0', '#DC267F', '#FE6100', '#FFB000'])\n",
    "\n",
    "\n",
    "fig, ax = plt.subplots(2,1,layout='constrained',figsize=(5,5))\n",
    "ax[0].hist(mc_counts, bins=range(30,100),density=True,color=colors[0])\n",
    "#ax.set_xticks([30, 35,  40, 45, 50, 55, 60])\n",
    "ax[0].set_xlabel('# clusters',fontsize=14)\n",
    "ax[0].set_ylabel('posterior density',fontsize=12)\n",
    "ax[0].set_title(\"Clustering ${\\\\tt Last.fm}$ users with $\\\\geq 10000$ listens ($N=497$)\")\n",
    "\n",
    "\n",
    "ax[1].bar(range(len(nonZeroClust)), nonZeroClust, color=colors[1])\n",
    "ax[1].set_xlabel('cluster $i$',fontsize=12)\n",
    "ax[1].set_ylabel('# $(\\hat{Z}^n=i)>0$',fontsize=10)\n",
    "ax[1].set_title(\"membership counts\")\n",
    "#ax[1].set_yscale('log')\n",
    "fig.savefig(\"figs/lastfm_clusterUsers_keepsamegenre.pdf\", format=\"pdf\")"
   ]
  },
  {
   "cell_type": "code",
   "execution_count": 18,
   "metadata": {
    "execution": {
     "iopub.execute_input": "2024-06-01T11:15:48.811221Z",
     "iopub.status.busy": "2024-06-01T11:15:48.810409Z",
     "iopub.status.idle": "2024-06-01T11:15:48.819267Z",
     "shell.execute_reply": "2024-06-01T11:15:48.818660Z"
    }
   },
   "outputs": [
    {
     "data": {
      "text/plain": [
       "array([ 0.        ,  0.        ,  0.        ,  0.        ,  0.        ,\n",
       "        0.        ,  0.        ,  0.        ,  0.        ,  0.        ,\n",
       "        0.        ,  0.        ,  0.        ,  0.        ,  0.        ,\n",
       "        0.        ,  0.        ,  1.        ,  1.        ,  1.        ,\n",
       "        1.        ,  1.        ,  1.        ,  1.        ,  1.        ,\n",
       "        1.        ,  1.        ,  1.        ,  1.        ,  1.        ,\n",
       "        1.        ,  1.        ,  1.        ,  1.        ,  1.        ,\n",
       "        1.        ,  1.        ,  1.        ,  2.        ,  2.        ,\n",
       "        2.        ,  2.        ,  2.        ,  2.        ,  2.        ,\n",
       "        2.        ,  2.        ,  2.        ,  2.        ,  2.        ,\n",
       "        2.        ,  2.        ,  2.        ,  2.        ,  2.        ,\n",
       "        2.        ,  2.        ,  2.        ,  2.        ,  2.        ,\n",
       "        3.        ,  3.        ,  3.        ,  3.        ,  3.        ,\n",
       "        3.        ,  3.        ,  3.        ,  3.        ,  3.        ,\n",
       "        3.        ,  3.        ,  3.        ,  3.        ,  3.        ,\n",
       "        3.        ,  3.        ,  4.        ,  4.        ,  4.        ,\n",
       "        4.        ,  4.        ,  4.        ,  5.        ,  5.        ,\n",
       "        5.        ,  5.        ,  6.        ,  6.        ,  8.        ,\n",
       "        9.        ,  9.00022848, 10.        , 11.        , 11.        ,\n",
       "       11.        , 14.        , 42.        , 77.00006551, 85.99970601])"
      ]
     },
     "execution_count": 18,
     "metadata": {},
     "output_type": "execute_result"
    }
   ],
   "source": [
    "np.sort(clustSums)"
   ]
  },
  {
   "cell_type": "code",
   "execution_count": 19,
   "metadata": {
    "execution": {
     "iopub.execute_input": "2024-06-01T11:15:48.822701Z",
     "iopub.status.busy": "2024-06-01T11:15:48.822317Z",
     "iopub.status.idle": "2024-06-01T11:15:48.827103Z",
     "shell.execute_reply": "2024-06-01T11:15:48.826560Z"
    }
   },
   "outputs": [
    {
     "data": {
      "text/plain": [
       "array([22, 63,  3, 23, 95,  7, 35, 17, 62, 54, 68, 93, 33, 75, 21, 29, 45,\n",
       "       38, 85, 13, 65, 94, 61, 51, 78, 74, 46, 86, 83, 26, 27, 31, 97, 92,\n",
       "        8, 64,  9, 69, 66, 41, 16, 15, 14, 19, 18, 82, 11, 98, 40, 77, 76,\n",
       "       12, 84,  0, 67, 44, 49, 48, 53,  4, 90, 91, 96,  2,  5,  6, 42, 43,\n",
       "       56, 57, 47, 70, 24, 32, 25, 37, 73, 72, 28, 80, 10, 88, 99, 58, 55,\n",
       "       52, 79, 39, 36, 34, 71, 59, 60, 50, 20, 30, 81, 87, 89,  1])"
      ]
     },
     "execution_count": 19,
     "metadata": {},
     "output_type": "execute_result"
    }
   ],
   "source": [
    "np.argsort(-clustSums)"
   ]
  },
  {
   "cell_type": "code",
   "execution_count": 20,
   "metadata": {
    "execution": {
     "iopub.execute_input": "2024-06-01T11:15:48.829380Z",
     "iopub.status.busy": "2024-06-01T11:15:48.829099Z",
     "iopub.status.idle": "2024-06-01T11:15:48.832323Z",
     "shell.execute_reply": "2024-06-01T11:15:48.831785Z"
    }
   },
   "outputs": [],
   "source": [
    "big_clust1 = np.argsort(clustSums)[-1]\n",
    "big_clust2 = np.argsort(clustSums)[-2]\n",
    "big_clust3 = np.argsort(clustSums)[-3]\n"
   ]
  },
  {
   "cell_type": "code",
   "execution_count": 21,
   "metadata": {
    "execution": {
     "iopub.execute_input": "2024-06-01T11:15:48.834113Z",
     "iopub.status.busy": "2024-06-01T11:15:48.833990Z",
     "iopub.status.idle": "2024-06-01T11:15:48.838257Z",
     "shell.execute_reply": "2024-06-01T11:15:48.837709Z"
    }
   },
   "outputs": [
    {
     "name": "stdout",
     "output_type": "stream",
     "text": [
      "[22, 85.99970600980313]\n",
      "[63, 77.00006550820164]\n",
      "[3, 42.0]\n"
     ]
    }
   ],
   "source": [
    "print([big_clust1, clustSums[big_clust1]])\n",
    "print([big_clust2, clustSums[big_clust2]])\n",
    "print([big_clust3, clustSums[big_clust3]])\n"
   ]
  },
  {
   "cell_type": "code",
   "execution_count": null,
   "metadata": {},
   "outputs": [],
   "source": []
  },
  {
   "cell_type": "code",
   "execution_count": 22,
   "metadata": {
    "execution": {
     "iopub.execute_input": "2024-06-01T11:15:48.839966Z",
     "iopub.status.busy": "2024-06-01T11:15:48.839842Z",
     "iopub.status.idle": "2024-06-01T11:15:48.842348Z",
     "shell.execute_reply": "2024-06-01T11:15:48.841834Z"
    }
   },
   "outputs": [],
   "source": [
    "#big_clust_p = pHat[big_clust,:,:]\n",
    "#big_clust_q = qHat[big_clust,:]"
   ]
  },
  {
   "cell_type": "code",
   "execution_count": 23,
   "metadata": {
    "execution": {
     "iopub.execute_input": "2024-06-01T11:15:48.844080Z",
     "iopub.status.busy": "2024-06-01T11:15:48.843961Z",
     "iopub.status.idle": "2024-06-01T11:15:48.846600Z",
     "shell.execute_reply": "2024-06-01T11:15:48.846030Z"
    }
   },
   "outputs": [],
   "source": [
    "#pHatCopy = pHat\n",
    "#normalizer = np.sum(pHatCopy,axis=2)[:,np.newaxis] # CHRIS ADDED \n",
    "#normalizer = np.swapaxes(normalizer,1,2)\n",
    "#pHatCopy /= normalizer\n",
    "#big_clust_p = pHatCopy[big_clust,:,:]\n"
   ]
  },
  {
   "cell_type": "code",
   "execution_count": 24,
   "metadata": {
    "execution": {
     "iopub.execute_input": "2024-06-01T11:15:48.848234Z",
     "iopub.status.busy": "2024-06-01T11:15:48.848110Z",
     "iopub.status.idle": "2024-06-01T11:15:48.851053Z",
     "shell.execute_reply": "2024-06-01T11:15:48.850500Z"
    }
   },
   "outputs": [],
   "source": [
    "hardAssign =  zHat.argmax(axis=1)"
   ]
  },
  {
   "cell_type": "code",
   "execution_count": 25,
   "metadata": {
    "execution": {
     "iopub.execute_input": "2024-06-01T11:15:48.852815Z",
     "iopub.status.busy": "2024-06-01T11:15:48.852680Z",
     "iopub.status.idle": "2024-06-01T11:15:48.885383Z",
     "shell.execute_reply": "2024-06-01T11:15:48.884726Z"
    }
   },
   "outputs": [],
   "source": [
    "big_cluster_states = states[hardAssign==big_clust1,:]\n",
    "big_cluster2_states = states[hardAssign==big_clust2,:]\n",
    "big_cluster3_states = states[hardAssign==big_clust3,:]\n"
   ]
  },
  {
   "cell_type": "code",
   "execution_count": null,
   "metadata": {},
   "outputs": [],
   "source": []
  },
  {
   "cell_type": "code",
   "execution_count": 26,
   "metadata": {
    "execution": {
     "iopub.execute_input": "2024-06-01T11:15:48.890368Z",
     "iopub.status.busy": "2024-06-01T11:15:48.890228Z",
     "iopub.status.idle": "2024-06-01T11:15:48.893542Z",
     "shell.execute_reply": "2024-06-01T11:15:48.892961Z"
    }
   },
   "outputs": [],
   "source": [
    "flattened_big_cluster_states = big_cluster_states\n",
    "flattened_big_cluster2_states = big_cluster2_states\n",
    "flattened_big_cluster3_states = big_cluster3_states"
   ]
  },
  {
   "cell_type": "code",
   "execution_count": 27,
   "metadata": {
    "execution": {
     "iopub.execute_input": "2024-06-01T11:15:48.896357Z",
     "iopub.status.busy": "2024-06-01T11:15:48.896222Z",
     "iopub.status.idle": "2024-06-01T11:15:49.123668Z",
     "shell.execute_reply": "2024-06-01T11:15:49.122915Z"
    }
   },
   "outputs": [],
   "source": [
    "big_cluster_genre_counts = np.zeros(100,)\n",
    "big_cluster2_genre_counts = np.zeros(100,)\n",
    "big_cluster3_genre_counts = np.zeros(100,)\n",
    "\n",
    "for i in range(100):\n",
    "    big_cluster_genre_counts[i] = np.sum(flattened_big_cluster_states==i)\n",
    "    big_cluster2_genre_counts[i] = np.sum(flattened_big_cluster2_states==i)\n",
    "    big_cluster3_genre_counts[i] = np.sum(flattened_big_cluster3_states==i)"
   ]
  },
  {
   "cell_type": "code",
   "execution_count": 28,
   "metadata": {
    "execution": {
     "iopub.execute_input": "2024-06-01T11:15:49.128667Z",
     "iopub.status.busy": "2024-06-01T11:15:49.128501Z",
     "iopub.status.idle": "2024-06-01T11:15:49.222407Z",
     "shell.execute_reply": "2024-06-01T11:15:49.221800Z"
    }
   },
   "outputs": [
    {
     "data": {
      "text/plain": [
       "[<matplotlib.lines.Line2D at 0x7fbfea817190>]"
      ]
     },
     "execution_count": 28,
     "metadata": {},
     "output_type": "execute_result"
    },
    {
     "data": {
      "image/png": "[encoded data removed]",
      "text/plain": [
       "<Figure size 432x288 with 1 Axes>"
      ]
     },
     "metadata": {
      "needs_background": "light"
     },
     "output_type": "display_data"
    }
   ],
   "source": [
    "plt.plot(big_cluster_genre_counts/np.sum(big_cluster_genre_counts))\n",
    "plt.plot(big_cluster2_genre_counts/np.sum(big_cluster2_genre_counts))\n",
    "plt.plot(big_cluster3_genre_counts/np.sum(big_cluster3_genre_counts))\n"
   ]
  },
  {
   "cell_type": "code",
   "execution_count": 29,
   "metadata": {
    "execution": {
     "iopub.execute_input": "2024-06-01T11:15:49.228702Z",
     "iopub.status.busy": "2024-06-01T11:15:49.228556Z",
     "iopub.status.idle": "2024-06-01T11:15:49.232113Z",
     "shell.execute_reply": "2024-06-01T11:15:49.231542Z"
    }
   },
   "outputs": [],
   "source": [
    "genre_big3 = np.asarray([big_cluster_genre_counts/np.sum(big_cluster_genre_counts), big_cluster2_genre_counts/np.sum(big_cluster2_genre_counts), big_cluster3_genre_counts/np.sum(big_cluster3_genre_counts)])"
   ]
  },
  {
   "cell_type": "code",
   "execution_count": 30,
   "metadata": {
    "execution": {
     "iopub.execute_input": "2024-06-01T11:15:49.234426Z",
     "iopub.status.busy": "2024-06-01T11:15:49.234292Z",
     "iopub.status.idle": "2024-06-01T11:15:49.312758Z",
     "shell.execute_reply": "2024-06-01T11:15:49.312227Z"
    }
   },
   "outputs": [
    {
     "data": {
      "text/plain": [
       "<matplotlib.collections.PolyCollection at 0x7fbfee2b5070>"
      ]
     },
     "execution_count": 30,
     "metadata": {},
     "output_type": "execute_result"
    },
    {
     "data": {
      "image/png": "[encoded data removed]",
      "text/plain": [
       "<Figure size 432x288 with 1 Axes>"
      ]
     },
     "metadata": {
      "needs_background": "light"
     },
     "output_type": "display_data"
    }
   ],
   "source": [
    "plt.pcolor(genre_big3[:,0:75])"
   ]
  },
  {
   "cell_type": "code",
   "execution_count": 31,
   "metadata": {
    "execution": {
     "iopub.execute_input": "2024-06-01T11:15:49.319673Z",
     "iopub.status.busy": "2024-06-01T11:15:49.318889Z",
     "iopub.status.idle": "2024-06-01T11:15:49.325322Z",
     "shell.execute_reply": "2024-06-01T11:15:49.324388Z"
    }
   },
   "outputs": [],
   "source": [
    "big_cluster_topgenres = np.argsort(-big_cluster_genre_counts)\n",
    "big_cluster2_topgenres = np.argsort(-big_cluster2_genre_counts)\n",
    "big_cluster3_topgenres = np.argsort(-big_cluster3_genre_counts)\n"
   ]
  },
  {
   "cell_type": "code",
   "execution_count": 32,
   "metadata": {
    "execution": {
     "iopub.execute_input": "2024-06-01T11:15:49.328023Z",
     "iopub.status.busy": "2024-06-01T11:15:49.327815Z",
     "iopub.status.idle": "2024-06-01T11:15:49.333302Z",
     "shell.execute_reply": "2024-06-01T11:15:49.332667Z"
    }
   },
   "outputs": [
    {
     "data": {
      "text/plain": [
       "array([ 1,  6,  0,  2,  3,  4, 58, 27, 10,  7, 24,  9, 23,  5, 14, 16, 32,\n",
       "        8, 12, 41, 42, 31, 13, 54, 39, 22, 72, 17, 11, 15, 92, 20, 34, 47,\n",
       "       21, 38, 33, 86, 36, 59, 78, 30, 69, 95, 43, 93, 35, 52, 19, 46, 29,\n",
       "       25, 66, 61, 63, 50, 49, 45, 28, 64, 99, 18, 40, 84, 71, 56, 44, 88,\n",
       "       82, 81, 26, 74, 89, 57, 73, 79, 48, 91, 53, 51, 90, 97, 85, 60, 80,\n",
       "       67, 68, 65, 76, 94, 87, 77, 75, 83, 55, 70, 96, 37, 62, 98])"
      ]
     },
     "execution_count": 32,
     "metadata": {},
     "output_type": "execute_result"
    }
   ],
   "source": [
    "big_cluster_topgenres"
   ]
  },
  {
   "cell_type": "code",
   "execution_count": 33,
   "metadata": {
    "execution": {
     "iopub.execute_input": "2024-06-01T11:15:49.335465Z",
     "iopub.status.busy": "2024-06-01T11:15:49.335336Z",
     "iopub.status.idle": "2024-06-01T11:15:49.339903Z",
     "shell.execute_reply": "2024-06-01T11:15:49.339364Z"
    }
   },
   "outputs": [
    {
     "data": {
      "text/plain": [
       "Index(['rock', 'seen live', 'indie', 'alternative', 'metal', 'electronic',\n",
       "       'punk', 'pop', 'indie rock', 'classic rock', 'alternative rock',\n",
       "       'female vocalists', 'emo', 'death metal', 'Hip-Hop', 'hardcore',\n",
       "       'electronica', 'singer-songwriter', 'black metal', 'jazz', 'hard rock',\n",
       "       'folk', 'punk rock', 'Progressive rock', 'heavy metal', 'industrial',\n",
       "       'metalcore', '80s', 'rap', 'experimental', 'dance', 'ambient',\n",
       "       'indie pop', 'Progressive metal', 'thrash metal', 'Power metal',\n",
       "       'post-rock', 'japanese', 'Melodic Death Metal', 'chillout', 'hip hop',\n",
       "       'british', 'britpop', 'screamo', 'trip-hop', 'new wave', 'Gothic Metal',\n",
       "       'Grunge', 'ska', 'post-punk', 'blues', 'soul', 'instrumental',\n",
       "       'doom metal', 'Gothic', 'reggae', 'german', 'finnish', 'favorites',\n",
       "       'Soundtrack', 'funk', 'acoustic', 'trance', 'Classical', 'psychedelic',\n",
       "       'folk metal', 'swedish', 'techno', 'idm', 'Canadian', 'J-rock',\n",
       "       'grindcore', '90s', 'electro', 'ebm', 'rnb', 'country', 'downtempo',\n",
       "       'Progressive', 'female', 'pop punk', 'symphonic metal', 'Nu Metal',\n",
       "       'j-pop', 'american', 'House', 'oldies', 'french', 'industrial metal',\n",
       "       'synthpop', 'post-hardcore', 'viking metal', 'chill', 'Stoner Rock',\n",
       "       'Alt-country', 'darkwave', 'JPop', '60s', 'christian', 'Mellow'],\n",
       "      dtype='object')"
      ]
     },
     "execution_count": 33,
     "metadata": {},
     "output_type": "execute_result"
    }
   ],
   "source": [
    "genres.index"
   ]
  },
  {
   "cell_type": "code",
   "execution_count": 34,
   "metadata": {
    "execution": {
     "iopub.execute_input": "2024-06-01T11:15:49.342111Z",
     "iopub.status.busy": "2024-06-01T11:15:49.341988Z",
     "iopub.status.idle": "2024-06-01T11:15:49.346223Z",
     "shell.execute_reply": "2024-06-01T11:15:49.345697Z"
    }
   },
   "outputs": [
    {
     "data": {
      "text/plain": [
       "Index(['seen live', 'punk', 'rock', 'indie', 'alternative'], dtype='object')"
      ]
     },
     "execution_count": 34,
     "metadata": {},
     "output_type": "execute_result"
    }
   ],
   "source": [
    "genres.index[big_cluster_topgenres][0:5]"
   ]
  },
  {
   "cell_type": "code",
   "execution_count": 35,
   "metadata": {
    "execution": {
     "iopub.execute_input": "2024-06-01T11:15:49.348155Z",
     "iopub.status.busy": "2024-06-01T11:15:49.348032Z",
     "iopub.status.idle": "2024-06-01T11:15:49.352142Z",
     "shell.execute_reply": "2024-06-01T11:15:49.351614Z"
    }
   },
   "outputs": [
    {
     "data": {
      "text/plain": [
       "Index(['indie', 'seen live', 'alternative', 'indie rock', 'indie pop'], dtype='object')"
      ]
     },
     "execution_count": 35,
     "metadata": {},
     "output_type": "execute_result"
    }
   ],
   "source": [
    "genres.index[big_cluster2_topgenres][0:5]"
   ]
  },
  {
   "cell_type": "code",
   "execution_count": 36,
   "metadata": {
    "execution": {
     "iopub.execute_input": "2024-06-01T11:15:49.353736Z",
     "iopub.status.busy": "2024-06-01T11:15:49.353611Z",
     "iopub.status.idle": "2024-06-01T11:15:49.357704Z",
     "shell.execute_reply": "2024-06-01T11:15:49.357171Z"
    }
   },
   "outputs": [
    {
     "data": {
      "text/plain": [
       "Index(['indie', 'alternative', 'seen live', 'pop', 'rock'], dtype='object')"
      ]
     },
     "execution_count": 36,
     "metadata": {},
     "output_type": "execute_result"
    }
   ],
   "source": [
    "genres.index[big_cluster3_topgenres][0:5]"
   ]
  },
  {
   "cell_type": "code",
   "execution_count": null,
   "metadata": {},
   "outputs": [],
   "source": []
  },
  {
   "cell_type": "code",
   "execution_count": null,
   "metadata": {},
   "outputs": [],
   "source": []
  },
  {
   "cell_type": "code",
   "execution_count": null,
   "metadata": {},
   "outputs": [],
   "source": []
  },
  {
   "cell_type": "code",
   "execution_count": null,
   "metadata": {},
   "outputs": [],
   "source": []
  }
 ],
 "metadata": {
  "kernelspec": {
   "display_name": "base",
   "language": "python",
   "name": "python3"
  },
  "language_info": {
   "codemirror_mode": {
    "name": "ipython",
    "version": 3
   },
   "file_extension": ".py",
   "mimetype": "text/x-python",
   "name": "python",
   "nbconvert_exporter": "python",
   "pygments_lexer": "ipython3",
   "version": "3.9.12"
  }
 },
 "nbformat": 4,
 "nbformat_minor": 2
}
