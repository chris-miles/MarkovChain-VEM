{
 "cells": [
  {
   "cell_type": "code",
   "execution_count": 1,
   "metadata": {
    "execution": {
     "iopub.execute_input": "2024-06-01T06:57:38.936210Z",
     "iopub.status.busy": "2024-06-01T06:57:38.935964Z",
     "iopub.status.idle": "2024-06-01T06:57:40.300067Z",
     "shell.execute_reply": "2024-06-01T06:57:40.299566Z"
    }
   },
   "outputs": [],
   "source": [
    "import sys\n",
    "sys.path.append('./code')\n",
    "sys.path.append('./data')\n",
    "\n",
    "import sys\n",
    "import pandas as pd\n",
    "import numpy as np\n",
    "import matplotlib.pyplot as plt\n",
    "from clustering import *\n",
    "from sklearn.metrics import * \n",
    "\n",
    "from sklearn.metrics import ConfusionMatrixDisplay\n",
    "\n",
    "np.random.seed(1)\n",
    "\n",
    "plt.rcParams['pdf.fonttype'] = 42\n",
    "plt.rcParams['ps.fonttype'] = 42\n",
    "plt.rcParams['axes.linewidth'] = 1.25\n",
    "\n",
    "#modified from Kausik et al's code"
   ]
  },
  {
   "cell_type": "code",
   "execution_count": 2,
   "metadata": {
    "execution": {
     "iopub.execute_input": "2024-06-01T06:57:40.302568Z",
     "iopub.status.busy": "2024-06-01T06:57:40.302360Z",
     "iopub.status.idle": "2024-06-01T06:57:40.362835Z",
     "shell.execute_reply": "2024-06-01T06:57:40.362429Z"
    }
   },
   "outputs": [
    {
     "data": {
      "text/html": [
       "<div>\n",
       "<style scoped>\n",
       "    .dataframe tbody tr th:only-of-type {\n",
       "        vertical-align: middle;\n",
       "    }\n",
       "\n",
       "    .dataframe tbody tr th {\n",
       "        vertical-align: top;\n",
       "    }\n",
       "\n",
       "    .dataframe thead th {\n",
       "        text-align: right;\n",
       "    }\n",
       "</style>\n",
       "<table border=\"1\" class=\"dataframe\">\n",
       "  <thead>\n",
       "    <tr style=\"text-align: right;\">\n",
       "      <th></th>\n",
       "      <th>count</th>\n",
       "    </tr>\n",
       "  </thead>\n",
       "  <tbody>\n",
       "    <tr>\n",
       "      <th>rock</th>\n",
       "      <td>440854</td>\n",
       "    </tr>\n",
       "    <tr>\n",
       "      <th>seen live</th>\n",
       "      <td>343901</td>\n",
       "    </tr>\n",
       "    <tr>\n",
       "      <th>indie</th>\n",
       "      <td>277747</td>\n",
       "    </tr>\n",
       "    <tr>\n",
       "      <th>alternative</th>\n",
       "      <td>245259</td>\n",
       "    </tr>\n",
       "    <tr>\n",
       "      <th>metal</th>\n",
       "      <td>184491</td>\n",
       "    </tr>\n",
       "  </tbody>\n",
       "</table>\n",
       "</div>"
      ],
      "text/plain": [
       "              count\n",
       "rock         440854\n",
       "seen live    343901\n",
       "indie        277747\n",
       "alternative  245259\n",
       "metal        184491"
      ]
     },
     "execution_count": 2,
     "metadata": {},
     "output_type": "execute_result"
    }
   ],
   "source": [
    "nGenres=100\n",
    "genres = pd.read_csv('data/Lastfm-ArtistTags2007/tags.txt', header=None)[0].values[:nGenres]\n",
    "genres = pd.DataFrame([genre.split()[0] for genre in genres], \n",
    "             index = [' '.join(genre.split()[1:]) for genre in genres],\n",
    "            columns = ['count'])\n",
    "genres.head()"
   ]
  },
  {
   "cell_type": "code",
   "execution_count": 3,
   "metadata": {
    "execution": {
     "iopub.execute_input": "2024-06-01T06:57:40.385984Z",
     "iopub.status.busy": "2024-06-01T06:57:40.385671Z",
     "iopub.status.idle": "2024-06-01T06:57:40.395814Z",
     "shell.execute_reply": "2024-06-01T06:57:40.395432Z"
    }
   },
   "outputs": [
    {
     "data": {
      "text/html": [
       "<div>\n",
       "<style scoped>\n",
       "    .dataframe tbody tr th:only-of-type {\n",
       "        vertical-align: middle;\n",
       "    }\n",
       "\n",
       "    .dataframe tbody tr th {\n",
       "        vertical-align: top;\n",
       "    }\n",
       "\n",
       "    .dataframe thead th {\n",
       "        text-align: right;\n",
       "    }\n",
       "</style>\n",
       "<table border=\"1\" class=\"dataframe\">\n",
       "  <thead>\n",
       "    <tr style=\"text-align: right;\">\n",
       "      <th></th>\n",
       "      <th>#id</th>\n",
       "      <th>gender</th>\n",
       "      <th>age</th>\n",
       "      <th>country</th>\n",
       "      <th>registered</th>\n",
       "    </tr>\n",
       "  </thead>\n",
       "  <tbody>\n",
       "    <tr>\n",
       "      <th>0</th>\n",
       "      <td>user_000001</td>\n",
       "      <td>m</td>\n",
       "      <td>NaN</td>\n",
       "      <td>Japan</td>\n",
       "      <td>Aug 13, 2006</td>\n",
       "    </tr>\n",
       "    <tr>\n",
       "      <th>1</th>\n",
       "      <td>user_000002</td>\n",
       "      <td>f</td>\n",
       "      <td>NaN</td>\n",
       "      <td>Peru</td>\n",
       "      <td>Feb 24, 2006</td>\n",
       "    </tr>\n",
       "    <tr>\n",
       "      <th>2</th>\n",
       "      <td>user_000003</td>\n",
       "      <td>m</td>\n",
       "      <td>22.0</td>\n",
       "      <td>United States</td>\n",
       "      <td>Oct 30, 2005</td>\n",
       "    </tr>\n",
       "    <tr>\n",
       "      <th>3</th>\n",
       "      <td>user_000004</td>\n",
       "      <td>f</td>\n",
       "      <td>NaN</td>\n",
       "      <td>NaN</td>\n",
       "      <td>Apr 26, 2006</td>\n",
       "    </tr>\n",
       "    <tr>\n",
       "      <th>4</th>\n",
       "      <td>user_000005</td>\n",
       "      <td>m</td>\n",
       "      <td>NaN</td>\n",
       "      <td>Bulgaria</td>\n",
       "      <td>Jun 29, 2006</td>\n",
       "    </tr>\n",
       "  </tbody>\n",
       "</table>\n",
       "</div>"
      ],
      "text/plain": [
       "           #id gender   age        country    registered\n",
       "0  user_000001      m   NaN          Japan  Aug 13, 2006\n",
       "1  user_000002      f   NaN           Peru  Feb 24, 2006\n",
       "2  user_000003      m  22.0  United States  Oct 30, 2005\n",
       "3  user_000004      f   NaN            NaN  Apr 26, 2006\n",
       "4  user_000005      m   NaN       Bulgaria  Jun 29, 2006"
      ]
     },
     "execution_count": 3,
     "metadata": {},
     "output_type": "execute_result"
    }
   ],
   "source": [
    "users = pd.read_csv(\"data/lastfm-dataset-1K/userid-profile.tsv\", sep=\"\\t\")\n",
    "users.head()"
   ]
  },
  {
   "cell_type": "code",
   "execution_count": 4,
   "metadata": {
    "execution": {
     "iopub.execute_input": "2024-06-01T06:57:40.397721Z",
     "iopub.status.busy": "2024-06-01T06:57:40.397487Z",
     "iopub.status.idle": "2024-06-01T06:58:30.878489Z",
     "shell.execute_reply": "2024-06-01T06:58:30.877743Z"
    }
   },
   "outputs": [],
   "source": [
    "lastfm = pd.read_csv(\"data/lastfm-dataset-1K/userid-timestamp-artid-artname-traid-traname.tsv\", sep=\"\\t\", \n",
    "           header=None, on_bad_lines='skip')\n",
    "lastfm.columns = ['userid', 'timestamp', 'artistid', 'artistname', 'trackid', 'trackname']\n",
    "nTopUsers=10\n",
    "topusers = lastfm.groupby('userid').size().sort_values()[-nTopUsers:]\n",
    "lastfm = lastfm[[user in topusers for user in lastfm['userid']]]\n",
    "lastfm.timestamp = pd.to_datetime(lastfm['timestamp'])"
   ]
  },
  {
   "cell_type": "code",
   "execution_count": 5,
   "metadata": {
    "execution": {
     "iopub.execute_input": "2024-06-01T06:58:30.881059Z",
     "iopub.status.busy": "2024-06-01T06:58:30.880831Z",
     "iopub.status.idle": "2024-06-01T06:58:35.331436Z",
     "shell.execute_reply": "2024-06-01T06:58:35.330977Z"
    }
   },
   "outputs": [
    {
     "name": "stderr",
     "output_type": "stream",
     "text": [
      "/tmp/cemiles/31573676/ipykernel_2509034/2105939917.py:1: ParserWarning: Falling back to the 'python' engine because the 'c' engine does not support regex separators (separators > 1 char and different from '\\s+' are interpreted as regex); you can avoid this warning by specifying engine='python'.\n",
      "  tags = pd.read_table('data/Lastfm-ArtistTags2007/ArtistTags.dat', sep=\"<sep>\", header=None, on_bad_lines='skip')\n"
     ]
    }
   ],
   "source": [
    "tags = pd.read_table('data/Lastfm-ArtistTags2007/ArtistTags.dat', sep=\"<sep>\", header=None, on_bad_lines='skip')\n",
    "tags.columns = ['artistid', 'artistname', 'tagname', 'rawtagcount']\n",
    "tags = tags[[tag in genres.index for tag in tags['tagname']]]\n",
    "# there are multiple tags/genres assigned to each artist.\n",
    "#  for simplicity, pick the tag/genre most associated with each artist\n",
    "#  by ranking by raw tag count and picking the first\n",
    "tags = tags[tags.groupby(['artistid', 'artistname'])['rawtagcount'].rank(method='first', ascending=False) <= 1]"
   ]
  },
  {
   "cell_type": "code",
   "execution_count": 6,
   "metadata": {
    "execution": {
     "iopub.execute_input": "2024-06-01T06:58:35.333734Z",
     "iopub.status.busy": "2024-06-01T06:58:35.333527Z",
     "iopub.status.idle": "2024-06-01T06:58:39.815698Z",
     "shell.execute_reply": "2024-06-01T06:58:39.815148Z"
    }
   },
   "outputs": [
    {
     "name": "stderr",
     "output_type": "stream",
     "text": [
      "/opt/apps/anaconda/2022.05/lib/python3.9/site-packages/pandas/core/computation/expressions.py:214: UserWarning: evaluating in Python space because the '*' operator is not supported by numexpr for the bool dtype, use '&' instead.\n",
      "  warnings.warn(\n"
     ]
    }
   ],
   "source": [
    "dataset = lastfm.merge(tags, on='artistid').sort_values(['userid', 'timestamp'])[['userid', 'timestamp', 'tagname']].reset_index()\n",
    "# assigning numbers to genres. doing so by ranking genres by how popular they are\n",
    "tagdict = dict(zip(genres.index.values, np.arange(len(genres))))\n",
    "dataset['tagnum'] = dataset['tagname'].replace(tagdict)\n",
    "# for some reason, gupta et al only consider the transitions that change genre\n",
    "#  we do so here\n",
    "keeps = (dataset.tagname != dataset.tagname.shift()) * (dataset.userid == dataset.userid.shift())\n",
    "keeps[0] = True\n",
    "dataset = dataset[keeps]"
   ]
  },
  {
   "cell_type": "code",
   "execution_count": 7,
   "metadata": {
    "execution": {
     "iopub.execute_input": "2024-06-01T06:58:39.818031Z",
     "iopub.status.busy": "2024-06-01T06:58:39.817803Z",
     "iopub.status.idle": "2024-06-01T06:58:39.821141Z",
     "shell.execute_reply": "2024-06-01T06:58:39.820770Z"
    }
   },
   "outputs": [],
   "source": [
    "nStates = len(genres)\n",
    "nActions = 1\n",
    "K = len(topusers)\n",
    "horizon = 250 # length of trajectories \n",
    "N = int(75*horizon) # fix this so 750 total trajectories like previous papers\n",
    "numTrajPerK = int(N/horizon)\n",
    "nTraj = numTrajPerK * K"
   ]
  },
  {
   "cell_type": "code",
   "execution_count": 8,
   "metadata": {
    "execution": {
     "iopub.execute_input": "2024-06-01T06:58:39.822999Z",
     "iopub.status.busy": "2024-06-01T06:58:39.822765Z",
     "iopub.status.idle": "2024-06-01T06:58:39.826238Z",
     "shell.execute_reply": "2024-06-01T06:58:39.825887Z"
    }
   },
   "outputs": [
    {
     "data": {
      "text/plain": [
       "75"
      ]
     },
     "execution_count": 8,
     "metadata": {},
     "output_type": "execute_result"
    }
   ],
   "source": [
    "numTrajPerK"
   ]
  },
  {
   "cell_type": "code",
   "execution_count": 9,
   "metadata": {
    "execution": {
     "iopub.execute_input": "2024-06-01T06:58:39.828085Z",
     "iopub.status.busy": "2024-06-01T06:58:39.827853Z",
     "iopub.status.idle": "2024-06-01T06:58:40.521077Z",
     "shell.execute_reply": "2024-06-01T06:58:40.520657Z"
    }
   },
   "outputs": [
    {
     "name": "stdout",
     "output_type": "stream",
     "text": [
      "shape of states before concat first axis: (10, 75, 250)\n",
      "shape of states after concat first axis: (750, 250)\n"
     ]
    }
   ],
   "source": [
    "#gupta et al only keep first 3000 transitions\n",
    "#building array of one hots\n",
    "\n",
    "\n",
    "#shuffling dataset\n",
    "dataset = dataset.sample(frac=1).reset_index(drop=True)\n",
    "dataset = dataset.sort_values(by='timestamp')    \n",
    "\n",
    "states = np.array([dataset[dataset.userid == user].tagnum.values[:N] \n",
    "          for user in topusers.index.sort_values()])\n",
    "\n",
    "#nextstates = np.array([dataset[dataset.userid == user].tagnum.values[1:N+1] \n",
    "#          for user in topusers.index.sort_values()])\n",
    "#onehots = np.array([np.eye(nStates)[dataset[dataset.userid == user].tagnum.values][:N] \n",
    "#          for user in topusers.index.sort_values()])\n",
    "#onehotsp = np.array([np.eye(nStates)[dataset[dataset.userid == user].tagnum.values][1:N+1] \n",
    "#          for user in topusers.index.sort_values()])\n",
    "\n",
    "#splitting into trajectories of length horizon\n",
    "states = np.array(np.split(states, numTrajPerK, axis=1)).transpose(1,0,2)\n",
    "#nextstates = np.array(np.split(nextstates, numTrajPerK, axis=1)).transpose(1,0,2)\n",
    "#onehots = np.array(np.split(onehots, numTrajPerK, axis=1)).transpose(1,0,2,3)\n",
    "#onehotsp = np.array(np.split(onehotsp, numTrajPerK, axis=1)).transpose(1,0,2,3)\n",
    "\n",
    "print('shape of states before concat first axis:', states.shape)\n",
    "#print('shape of onehots before concat first axis:', onehots.shape)\n",
    "#why concatenate? want 0,..,0,1...,1,...,9...,9\n",
    "labels = np.concatenate([np.ones(numTrajPerK)*k for k in range(K)])\n",
    "states = np.concatenate(states)\n",
    "#nextstates = np.concatenate(nextstates)\n",
    "#onehots = np.concatenate(onehots)\n",
    "#onehotsp = np.concatenate(onehotsp)\n",
    "print('shape of states after concat first axis:', states.shape)\n",
    "#print('shape of onehots after concat first axis:', onehots.shape)\n",
    "\n",
    "#inds = np.arange(len(labels)) # Kausik shuffles but we do not. Why temporally shuffle temporal data?\n",
    "#np.random.shuffle(inds)\n",
    "#labels = labels[inds]\n",
    "#states = states[inds]\n",
    "#onehots = onehots[inds]\n",
    "#onehotsp = onehotsp[inds]"
   ]
  },
  {
   "cell_type": "code",
   "execution_count": 10,
   "metadata": {
    "execution": {
     "iopub.execute_input": "2024-06-01T06:58:40.523183Z",
     "iopub.status.busy": "2024-06-01T06:58:40.522894Z",
     "iopub.status.idle": "2024-06-01T07:21:56.268788Z",
     "shell.execute_reply": "2024-06-01T07:21:56.268132Z"
    }
   },
   "outputs": [
    {
     "name": "stderr",
     "output_type": "stream",
     "text": [
      "[Parallel(n_jobs=-1)]: Using backend LokyBackend with 16 concurrent workers.\n",
      "[Parallel(n_jobs=-1)]: Done  18 tasks      | elapsed:    7.0s\n",
      "[Parallel(n_jobs=-1)]: Done 168 tasks      | elapsed:   34.5s\n",
      "[Parallel(n_jobs=-1)]: Done 418 tasks      | elapsed:  1.3min\n",
      "[Parallel(n_jobs=-1)]: Done 768 tasks      | elapsed:  2.4min\n",
      "[Parallel(n_jobs=-1)]: Done 1218 tasks      | elapsed:  3.8min\n",
      "[Parallel(n_jobs=-1)]: Done 1768 tasks      | elapsed:  5.5min\n",
      "[Parallel(n_jobs=-1)]: Done 2418 tasks      | elapsed:  7.5min\n",
      "[Parallel(n_jobs=-1)]: Done 3168 tasks      | elapsed:  9.9min\n",
      "[Parallel(n_jobs=-1)]: Done 4018 tasks      | elapsed: 12.5min\n",
      "[Parallel(n_jobs=-1)]: Done 4968 tasks      | elapsed: 15.5min\n",
      "[Parallel(n_jobs=-1)]: Done 6018 tasks      | elapsed: 18.7min\n",
      "[Parallel(n_jobs=-1)]: Done 7168 tasks      | elapsed: 22.2min\n",
      "[Parallel(n_jobs=-1)]: Done 7500 out of 7500 | elapsed: 23.3min finished\n"
     ]
    }
   ],
   "source": [
    "nEM = 7500\n",
    "nClustMax=10\n",
    "\n",
    "Xt=states\n",
    "nStates=nGenres\n",
    "\n",
    "#nTrials = 10\n",
    "best_err = 1.0\n",
    "\n",
    "predictLabelsC_best = []\n",
    "\n",
    "#for s in range(nTrials):\n",
    "\n",
    "zHat, muHat, qHat, pHat, steps, logL = doVEMmultiPar(Xt, nClustMax, nStates, nEM=nEM)\n",
    "\n",
    "trueLabels = labels.astype('int64')\n",
    "best_assignment, zHat_c, qHat_c, muHat_c, pHat_c = find_best_clustermatch(trueLabels.T, zHat, muHat, qHat, pHat)  # uses HUNGARIAN ALGORITHM to assign best permutation\n",
    "        \n",
    "predictLabels = zHat_c.argmax(axis=1)\n",
    "trueLabelsC = trueLabels\n",
    "predictLabelsC = predictLabels\n",
    "error = 1.0-sum(trueLabels==predictLabels)/len(predictLabels)\n",
    "   # if error<best_err:\n",
    "predictLabelsC_best = predictLabelsC\n",
    "best_err=error"
   ]
  },
  {
   "cell_type": "code",
   "execution_count": 11,
   "metadata": {
    "execution": {
     "iopub.execute_input": "2024-06-01T07:21:56.271584Z",
     "iopub.status.busy": "2024-06-01T07:21:56.271162Z",
     "iopub.status.idle": "2024-06-01T07:21:56.275954Z",
     "shell.execute_reply": "2024-06-01T07:21:56.275549Z"
    }
   },
   "outputs": [
    {
     "data": {
      "text/plain": [
       "0.348"
      ]
     },
     "execution_count": 11,
     "metadata": {},
     "output_type": "execute_result"
    }
   ],
   "source": [
    "best_err"
   ]
  },
  {
   "cell_type": "code",
   "execution_count": 12,
   "metadata": {
    "execution": {
     "iopub.execute_input": "2024-06-01T07:21:56.277891Z",
     "iopub.status.busy": "2024-06-01T07:21:56.277632Z",
     "iopub.status.idle": "2024-06-01T07:21:56.279722Z",
     "shell.execute_reply": "2024-06-01T07:21:56.279325Z"
    }
   },
   "outputs": [],
   "source": [
    "#\n",
    "#adj_rand = adjusted_rand_score(trueLabels,predictLabels)\n",
    "#print(adj_rand)"
   ]
  },
  {
   "cell_type": "code",
   "execution_count": 13,
   "metadata": {
    "execution": {
     "iopub.execute_input": "2024-06-01T07:21:56.281498Z",
     "iopub.status.busy": "2024-06-01T07:21:56.281274Z",
     "iopub.status.idle": "2024-06-01T07:21:56.283190Z",
     "shell.execute_reply": "2024-06-01T07:21:56.282821Z"
    }
   },
   "outputs": [],
   "source": [
    "#rand = rand_score(trueLabels,predictLabels)\n",
    "#print(rand)"
   ]
  },
  {
   "cell_type": "code",
   "execution_count": 14,
   "metadata": {
    "execution": {
     "iopub.execute_input": "2024-06-01T07:21:56.285033Z",
     "iopub.status.busy": "2024-06-01T07:21:56.284726Z",
     "iopub.status.idle": "2024-06-01T07:21:57.227374Z",
     "shell.execute_reply": "2024-06-01T07:21:57.226887Z"
    }
   },
   "outputs": [
    {
     "data": {
      "image/png": "[encoded data removed]",
      "text/plain": [
       "<Figure size 360x288 with 2 Axes>"
      ]
     },
     "metadata": {
      "needs_background": "light"
     },
     "output_type": "display_data"
    }
   ],
   "source": [
    "trueLabelsC = trueLabels\n",
    "predictLabelsC = predictLabels\n",
    "fig =plt.figure(figsize=(5,4))\n",
    "ax = fig.add_subplot(111)\n",
    "\n",
    "disp=ConfusionMatrixDisplay.from_predictions(trueLabelsC,predictLabelsC_best,normalize='true',values_format='.2f',cmap=\"plasma\",ax=ax,text_kw={\"fontsize\":8})#,cmap=plt.cm.Blues)\n",
    "disp.ax_.set_title('${\\\\tt Last.fm}$ top 10 user prediction accuracy',fontsize=10)\n",
    "disp.ax_.set_xlabel(\"predicted user\",fontsize=12)\n",
    "disp.ax_.set_ylabel(\"true user\",fontsize=12)\n",
    "\n",
    "plt.savefig('figs/lastfm_confusion.pdf',format='pdf')"
   ]
  },
  {
   "cell_type": "code",
   "execution_count": 15,
   "metadata": {
    "execution": {
     "iopub.execute_input": "2024-06-01T07:21:57.229612Z",
     "iopub.status.busy": "2024-06-01T07:21:57.229332Z",
     "iopub.status.idle": "2024-06-01T07:21:57.233018Z",
     "shell.execute_reply": "2024-06-01T07:21:57.232645Z"
    }
   },
   "outputs": [],
   "source": [
    "with open('temp/lastfm10_confusion.npy', 'wb') as f:\n",
    "    np.save(f,trueLabelsC)\n",
    "    np.save(f,predictLabelsC)"
   ]
  },
  {
   "cell_type": "code",
   "execution_count": null,
   "metadata": {},
   "outputs": [],
   "source": []
  },
  {
   "cell_type": "code",
   "execution_count": null,
   "metadata": {},
   "outputs": [],
   "source": []
  },
  {
   "cell_type": "code",
   "execution_count": null,
   "metadata": {},
   "outputs": [],
   "source": []
  },
  {
   "cell_type": "code",
   "execution_count": null,
   "metadata": {},
   "outputs": [],
   "source": []
  }
 ],
 "metadata": {
  "kernelspec": {
   "display_name": "base",
   "language": "python",
   "name": "python3"
  },
  "language_info": {
   "codemirror_mode": {
    "name": "ipython",
    "version": 3
   },
   "file_extension": ".py",
   "mimetype": "text/x-python",
   "name": "python",
   "nbconvert_exporter": "python",
   "pygments_lexer": "ipython3",
   "version": "3.9.12"
  }
 },
 "nbformat": 4,
 "nbformat_minor": 2
}
