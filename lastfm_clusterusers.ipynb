{
 "cells": [
  {
   "cell_type": "code",
   "execution_count": 1,
   "metadata": {
    "execution": {
     "iopub.execute_input": "2024-06-01T07:04:06.985717Z",
     "iopub.status.busy": "2024-06-01T07:04:06.985503Z",
     "iopub.status.idle": "2024-06-01T07:04:08.032494Z",
     "shell.execute_reply": "2024-06-01T07:04:08.031719Z"
    }
   },
   "outputs": [],
   "source": [
    "import sys\n",
    "sys.path.append('./code')\n",
    "sys.path.append('./data')\n",
    "\n",
    "import sys\n",
    "import pandas as pd\n",
    "import numpy as np\n",
    "import matplotlib.pyplot as plt\n",
    "from clustering import *\n",
    "\n",
    "np.random.seed(12345)\n",
    "\n",
    "plt.rcParams['pdf.fonttype'] = 42\n",
    "plt.rcParams['ps.fonttype'] = 42\n",
    "plt.rcParams['axes.linewidth'] = 1.25\n",
    "\n",
    "#modified from Kausik et al's code"
   ]
  },
  {
   "cell_type": "code",
   "execution_count": 2,
   "metadata": {
    "execution": {
     "iopub.execute_input": "2024-06-01T07:04:08.035584Z",
     "iopub.status.busy": "2024-06-01T07:04:08.035421Z",
     "iopub.status.idle": "2024-06-01T07:04:37.131455Z",
     "shell.execute_reply": "2024-06-01T07:04:37.129845Z"
    }
   },
   "outputs": [],
   "source": [
    "nGenres=100\n",
    "genres = pd.read_csv('data/Lastfm-ArtistTags2007/tags.txt', header=None)[0].values[:nGenres]\n",
    "genres = pd.DataFrame([genre.split()[0] for genre in genres], \n",
    "             index = [' '.join(genre.split()[1:]) for genre in genres],\n",
    "            columns = ['count'])\n",
    "genres.head()\n",
    "users = pd.read_csv(\"data/lastfm-dataset-1K/userid-profile.tsv\", sep=\"\\t\")\n",
    "users.head()\n",
    "lastfm = pd.read_csv(\"data/lastfm-dataset-1K/userid-timestamp-artid-artname-traid-traname.tsv\", sep=\"\\t\", \n",
    "           header=None, on_bad_lines='skip')\n",
    "lastfm.columns = ['userid', 'timestamp', 'artistid', 'artistname', 'trackid', 'trackname']\n"
   ]
  },
  {
   "cell_type": "code",
   "execution_count": 3,
   "metadata": {
    "execution": {
     "iopub.execute_input": "2024-06-01T07:04:37.135167Z",
     "iopub.status.busy": "2024-06-01T07:04:37.134946Z",
     "iopub.status.idle": "2024-06-01T07:04:58.866165Z",
     "shell.execute_reply": "2024-06-01T07:04:58.865526Z"
    }
   },
   "outputs": [],
   "source": [
    "nTopUsers=500 # may get reduced later\n",
    "topusers = lastfm.groupby('userid').size().sort_values()[-nTopUsers:]\n",
    "lastfm = lastfm[[user in topusers for user in lastfm['userid']]]\n",
    "lastfm.timestamp = pd.to_datetime(lastfm['timestamp'])"
   ]
  },
  {
   "cell_type": "code",
   "execution_count": 4,
   "metadata": {
    "execution": {
     "iopub.execute_input": "2024-06-01T07:04:58.869008Z",
     "iopub.status.busy": "2024-06-01T07:04:58.868852Z",
     "iopub.status.idle": "2024-06-01T07:05:02.935101Z",
     "shell.execute_reply": "2024-06-01T07:05:02.934446Z"
    }
   },
   "outputs": [
    {
     "name": "stderr",
     "output_type": "stream",
     "text": [
      "/tmp/cemiles/31573678/ipykernel_1525091/2105939917.py:1: ParserWarning: Falling back to the 'python' engine because the 'c' engine does not support regex separators (separators > 1 char and different from '\\s+' are interpreted as regex); you can avoid this warning by specifying engine='python'.\n",
      "  tags = pd.read_table('data/Lastfm-ArtistTags2007/ArtistTags.dat', sep=\"<sep>\", header=None, on_bad_lines='skip')\n"
     ]
    }
   ],
   "source": [
    "tags = pd.read_table('data/Lastfm-ArtistTags2007/ArtistTags.dat', sep=\"<sep>\", header=None, on_bad_lines='skip')\n",
    "tags.columns = ['artistid', 'artistname', 'tagname', 'rawtagcount']\n",
    "tags = tags[[tag in genres.index for tag in tags['tagname']]]\n",
    "# there are multiple tags/genres assigned to each artist.\n",
    "#  for simplicity, pick the tag/genre most associated with each artist\n",
    "#  by ranking by raw tag count and picking the first\n",
    "tags = tags[tags.groupby(['artistid', 'artistname'])['rawtagcount'].rank(method='first', ascending=False) <= 1]"
   ]
  },
  {
   "cell_type": "code",
   "execution_count": 5,
   "metadata": {
    "execution": {
     "iopub.execute_input": "2024-06-01T07:05:02.937651Z",
     "iopub.status.busy": "2024-06-01T07:05:02.937494Z",
     "iopub.status.idle": "2024-06-01T07:06:06.613038Z",
     "shell.execute_reply": "2024-06-01T07:06:06.612358Z"
    }
   },
   "outputs": [
    {
     "name": "stderr",
     "output_type": "stream",
     "text": [
      "/opt/apps/anaconda/2022.05/lib/python3.9/site-packages/pandas/core/computation/expressions.py:214: UserWarning: evaluating in Python space because the '*' operator is not supported by numexpr for the bool dtype, use '&' instead.\n",
      "  warnings.warn(\n"
     ]
    }
   ],
   "source": [
    "dataset = lastfm.merge(tags, on='artistid').sort_values(['userid', 'timestamp'])[['userid', 'timestamp', 'tagname']].reset_index()\n",
    "# assigning numbers to genres. doing so by ranking genres by how popular they are\n",
    "tagdict = dict(zip(genres.index.values, np.arange(len(genres))))\n",
    "dataset['tagnum'] = dataset['tagname'].replace(tagdict)\n",
    "# for some reason, gupta et al only consider the transitions that change genre\n",
    "#  we do so here\n",
    "keeps = (dataset.tagname != dataset.tagname.shift()) * (dataset.userid == dataset.userid.shift())\n",
    "keeps[0] = True\n",
    "dataset = dataset[keeps]"
   ]
  },
  {
   "cell_type": "code",
   "execution_count": 6,
   "metadata": {
    "execution": {
     "iopub.execute_input": "2024-06-01T07:06:06.615745Z",
     "iopub.status.busy": "2024-06-01T07:06:06.615578Z",
     "iopub.status.idle": "2024-06-01T07:06:06.967021Z",
     "shell.execute_reply": "2024-06-01T07:06:06.966486Z"
    }
   },
   "outputs": [],
   "source": [
    "playCounts = dataset.groupby('userid').size()"
   ]
  },
  {
   "cell_type": "code",
   "execution_count": 7,
   "metadata": {
    "execution": {
     "iopub.execute_input": "2024-06-01T07:06:06.969470Z",
     "iopub.status.busy": "2024-06-01T07:06:06.969319Z",
     "iopub.status.idle": "2024-06-01T07:06:07.392673Z",
     "shell.execute_reply": "2024-06-01T07:06:07.392074Z"
    }
   },
   "outputs": [
    {
     "data": {
      "image/png": "[encoded data removed]",
      "text/plain": [
       "<Figure size 432x288 with 1 Axes>"
      ]
     },
     "metadata": {
      "needs_background": "light"
     },
     "output_type": "display_data"
    }
   ],
   "source": [
    "plt.plot(np.sort(playCounts))\n",
    "plt.yscale('log')"
   ]
  },
  {
   "cell_type": "code",
   "execution_count": 8,
   "metadata": {
    "execution": {
     "iopub.execute_input": "2024-06-01T07:06:07.395026Z",
     "iopub.status.busy": "2024-06-01T07:06:07.394877Z",
     "iopub.status.idle": "2024-06-01T07:06:07.398018Z",
     "shell.execute_reply": "2024-06-01T07:06:07.397420Z"
    }
   },
   "outputs": [],
   "source": [
    "horizon = 1000 # length of trajectories \n",
    "aboveThresh = playCounts.index[playCounts.values>horizon]"
   ]
  },
  {
   "cell_type": "code",
   "execution_count": 9,
   "metadata": {
    "execution": {
     "iopub.execute_input": "2024-06-01T07:06:07.400186Z",
     "iopub.status.busy": "2024-06-01T07:06:07.400035Z",
     "iopub.status.idle": "2024-06-01T07:06:08.067101Z",
     "shell.execute_reply": "2024-06-01T07:06:08.066568Z"
    }
   },
   "outputs": [],
   "source": [
    "dataset=dataset[dataset.userid.isin(aboveThresh)]\n",
    "topusers = dataset.groupby('userid').size().sort_values()"
   ]
  },
  {
   "cell_type": "code",
   "execution_count": 10,
   "metadata": {
    "execution": {
     "iopub.execute_input": "2024-06-01T07:06:08.069461Z",
     "iopub.status.busy": "2024-06-01T07:06:08.069308Z",
     "iopub.status.idle": "2024-06-01T07:06:08.072660Z",
     "shell.execute_reply": "2024-06-01T07:06:08.072193Z"
    }
   },
   "outputs": [],
   "source": [
    "nStates = len(genres)\n",
    "nActions = 1\n",
    "K = len(topusers)\n",
    "N = int(1*horizon) \n",
    "numTrajPerK = int(N/horizon)\n",
    "nTraj = numTrajPerK * K"
   ]
  },
  {
   "cell_type": "code",
   "execution_count": 11,
   "metadata": {
    "execution": {
     "iopub.execute_input": "2024-06-01T07:06:08.075020Z",
     "iopub.status.busy": "2024-06-01T07:06:08.074876Z",
     "iopub.status.idle": "2024-06-01T07:16:17.676301Z",
     "shell.execute_reply": "2024-06-01T07:16:17.675737Z"
    }
   },
   "outputs": [
    {
     "name": "stdout",
     "output_type": "stream",
     "text": [
      "shape of states before concat first axis: (497, 1, 1000)\n",
      "shape of onehots before concat first axis: (497, 1, 1000, 100)\n",
      "shape of states after concat first axis: (497, 1000)\n",
      "shape of onehots after concat first axis: (497, 1000, 100)\n"
     ]
    }
   ],
   "source": [
    "\n",
    "#shuffling dataset\n",
    "dataset = dataset.sample(frac=1).reset_index(drop=True)\n",
    "dataset = dataset.sort_values(by='timestamp')    \n",
    "\n",
    "states = np.array([dataset[dataset.userid == user].tagnum.values[:N] \n",
    "          for user in topusers.index.sort_values()])\n",
    "\n",
    "nextstates = np.array([dataset[dataset.userid == user].tagnum.values[1:N+1] \n",
    "          for user in topusers.index.sort_values()])\n",
    "onehots = np.array([np.eye(nStates)[dataset[dataset.userid == user].tagnum.values][:N] \n",
    "          for user in topusers.index.sort_values()])\n",
    "onehotsp = np.array([np.eye(nStates)[dataset[dataset.userid == user].tagnum.values][1:N+1] \n",
    "          for user in topusers.index.sort_values()])\n",
    "\n",
    "#splitting into trajectories of length horizon\n",
    "states = np.array(np.split(states, numTrajPerK, axis=1)).transpose(1,0,2)\n",
    "nextstates = np.array(np.split(nextstates, numTrajPerK, axis=1)).transpose(1,0,2)\n",
    "onehots = np.array(np.split(onehots, numTrajPerK, axis=1)).transpose(1,0,2,3)\n",
    "onehotsp = np.array(np.split(onehotsp, numTrajPerK, axis=1)).transpose(1,0,2,3)\n",
    "\n",
    "print('shape of states before concat first axis:', states.shape)\n",
    "print('shape of onehots before concat first axis:', onehots.shape)\n",
    "#why concatenate? want 0,..,0,1...,1,...,9...,9\n",
    "labels = np.concatenate([np.ones(numTrajPerK)*k for k in range(K)])\n",
    "states = np.concatenate(states)\n",
    "nextstates = np.concatenate(nextstates)\n",
    "onehots = np.concatenate(onehots)\n",
    "onehotsp = np.concatenate(onehotsp)\n",
    "print('shape of states after concat first axis:', states.shape)\n",
    "print('shape of onehots after concat first axis:', onehots.shape)\n",
    "\n",
    "#shuffling\n",
    "#inds = np.arange(len(labels)) # Kausik shuffles but we do not. Why temporally shuffle temporal data?\n",
    "#np.random.shuffle(inds)\n",
    "#labels = labels[inds]\n",
    "#states = states[inds]\n",
    "#onehots = onehots[inds]\n",
    "#onehotsp = onehotsp[inds]"
   ]
  },
  {
   "cell_type": "code",
   "execution_count": 12,
   "metadata": {
    "execution": {
     "iopub.execute_input": "2024-06-01T07:16:17.679276Z",
     "iopub.status.busy": "2024-06-01T07:16:17.679083Z",
     "iopub.status.idle": "2024-06-01T07:58:39.959789Z",
     "shell.execute_reply": "2024-06-01T07:58:39.959073Z"
    }
   },
   "outputs": [
    {
     "name": "stderr",
     "output_type": "stream",
     "text": [
      "[Parallel(n_jobs=-1)]: Using backend LokyBackend with 16 concurrent workers.\n",
      "[Parallel(n_jobs=-1)]: Done  18 tasks      | elapsed:   16.5s\n",
      "[Parallel(n_jobs=-1)]: Done 168 tasks      | elapsed:  1.5min\n",
      "[Parallel(n_jobs=-1)]: Done 418 tasks      | elapsed:  3.7min\n",
      "[Parallel(n_jobs=-1)]: Done 768 tasks      | elapsed:  6.6min\n",
      "[Parallel(n_jobs=-1)]: Done 1218 tasks      | elapsed: 10.4min\n",
      "[Parallel(n_jobs=-1)]: Done 1768 tasks      | elapsed: 15.1min\n",
      "[Parallel(n_jobs=-1)]: Done 2418 tasks      | elapsed: 20.5min\n",
      "[Parallel(n_jobs=-1)]: Done 3168 tasks      | elapsed: 26.8min\n",
      "[Parallel(n_jobs=-1)]: Done 4018 tasks      | elapsed: 34.0min\n",
      "[Parallel(n_jobs=-1)]: Done 4968 tasks      | elapsed: 42.1min\n",
      "[Parallel(n_jobs=-1)]: Done 5000 out of 5000 | elapsed: 42.4min finished\n"
     ]
    }
   ],
   "source": [
    "nEM = 5000\n",
    "nClustMax=100\n",
    "\n",
    "Xt=states\n",
    "nStates=nGenres\n",
    "\n",
    "zHat, muHat, qHat, pHat, steps, logL = doVEMmultiPar(Xt, nClustMax, nStates, nEM=nEM)"
   ]
  },
  {
   "cell_type": "code",
   "execution_count": 13,
   "metadata": {
    "execution": {
     "iopub.execute_input": "2024-06-01T07:58:39.962882Z",
     "iopub.status.busy": "2024-06-01T07:58:39.962622Z",
     "iopub.status.idle": "2024-06-01T07:58:41.197726Z",
     "shell.execute_reply": "2024-06-01T07:58:41.196892Z"
    }
   },
   "outputs": [],
   "source": [
    "nSims=10000\n",
    "\n",
    "def MC_counts(muHat,nTrajs, nSims):\n",
    "    counts = np.zeros(nSims)\n",
    "    for i in range(nSims):\n",
    "        dirchsamp = np.random.dirichlet(muHat,1)\n",
    "        rng = np.random.default_rng()\n",
    "        labelsamp = rng.multinomial(nTrajs,dirchsamp,size=1)\n",
    "        counts[i]= np.sum(labelsamp>0)\n",
    "    return counts\n",
    "\n",
    "N, nClusters = np.shape(zHat)    \n",
    "mc_counts = MC_counts(muHat,N,nSims)\n"
   ]
  },
  {
   "cell_type": "code",
   "execution_count": 14,
   "metadata": {
    "execution": {
     "iopub.execute_input": "2024-06-01T07:58:41.200647Z",
     "iopub.status.busy": "2024-06-01T07:58:41.200434Z",
     "iopub.status.idle": "2024-06-01T07:58:41.212718Z",
     "shell.execute_reply": "2024-06-01T07:58:41.212245Z"
    }
   },
   "outputs": [],
   "source": [
    "with open('temp/lastfm_clustusers.npy', 'wb') as f:\n",
    "    np.save(f,mc_counts)\n",
    "    np.save(f,muHat)\n",
    "    np.save(f,zHat)\n",
    "    np.save(f,states)\n"
   ]
  },
  {
   "cell_type": "code",
   "execution_count": 15,
   "metadata": {
    "execution": {
     "iopub.execute_input": "2024-06-01T07:58:41.215056Z",
     "iopub.status.busy": "2024-06-01T07:58:41.214892Z",
     "iopub.status.idle": "2024-06-01T07:58:41.217755Z",
     "shell.execute_reply": "2024-06-01T07:58:41.217335Z"
    }
   },
   "outputs": [],
   "source": [
    "clustSums = np.sum(zHat,axis=0)\n",
    "nonZeroClust = clustSums[clustSums>0]"
   ]
  },
  {
   "cell_type": "code",
   "execution_count": 16,
   "metadata": {
    "execution": {
     "iopub.execute_input": "2024-06-01T07:58:41.220123Z",
     "iopub.status.busy": "2024-06-01T07:58:41.219961Z",
     "iopub.status.idle": "2024-06-01T07:58:41.224745Z",
     "shell.execute_reply": "2024-06-01T07:58:41.224275Z"
    }
   },
   "outputs": [
    {
     "data": {
      "text/plain": [
       "90"
      ]
     },
     "execution_count": 16,
     "metadata": {},
     "output_type": "execute_result"
    }
   ],
   "source": [
    "np.sum(np.sum(zHat,axis=0)>0)"
   ]
  },
  {
   "cell_type": "code",
   "execution_count": 17,
   "metadata": {
    "execution": {
     "iopub.execute_input": "2024-06-01T07:58:41.227071Z",
     "iopub.status.busy": "2024-06-01T07:58:41.226908Z",
     "iopub.status.idle": "2024-06-01T07:58:42.351813Z",
     "shell.execute_reply": "2024-06-01T07:58:42.351214Z"
    }
   },
   "outputs": [
    {
     "data": {
      "image/png": "[encoded data removed]",
      "text/plain": [
       "<Figure size 360x360 with 2 Axes>"
      ]
     },
     "metadata": {
      "needs_background": "light"
     },
     "output_type": "display_data"
    }
   ],
   "source": [
    "colors = np.array(['#648FFF', '#785EF0', '#DC267F', '#FE6100', '#FFB000'])\n",
    "\n",
    "\n",
    "fig, ax = plt.subplots(2,1,layout='constrained',figsize=(5,5))\n",
    "ax[0].hist(mc_counts, bins=range(30,100),density=True,color=colors[0])\n",
    "#ax.set_xticks([30, 35,  40, 45, 50, 55, 60])\n",
    "ax[0].set_xlabel('# clusters',fontsize=14)\n",
    "ax[0].set_ylabel('posterior density',fontsize=12)\n",
    "ax[0].set_title(\"Clustering ${\\\\tt Last.fm}$ users with $\\\\geq 1000$ transitions ($N=497$)\")\n",
    "\n",
    "\n",
    "ax[1].bar(range(len(nonZeroClust)), nonZeroClust, color=colors[1])\n",
    "ax[1].set_xlabel('cluster $i$',fontsize=12)\n",
    "ax[1].set_ylabel('# $(\\hat{Z}^n=i)>0$',fontsize=10)\n",
    "ax[1].set_title(\"membership counts\")\n",
    "#ax[1].set_yscale('log')\n",
    "fig.savefig(\"figs/lastfm_clusterUsers.pdf\", format=\"pdf\")"
   ]
  },
  {
   "cell_type": "code",
   "execution_count": 18,
   "metadata": {
    "execution": {
     "iopub.execute_input": "2024-06-01T07:58:42.354642Z",
     "iopub.status.busy": "2024-06-01T07:58:42.354375Z",
     "iopub.status.idle": "2024-06-01T07:58:42.359417Z",
     "shell.execute_reply": "2024-06-01T07:58:42.358999Z"
    }
   },
   "outputs": [
    {
     "data": {
      "text/plain": [
       "array([  0.        ,   0.        ,   0.        ,   0.        ,\n",
       "         0.        ,   0.        ,   0.        ,   0.        ,\n",
       "         0.        ,   0.        ,   1.        ,   1.        ,\n",
       "         1.        ,   1.        ,   1.        ,   1.        ,\n",
       "         1.        ,   1.        ,   1.        ,   1.        ,\n",
       "         1.        ,   1.        ,   1.        ,   1.        ,\n",
       "         1.        ,   1.        ,   1.        ,   1.        ,\n",
       "         1.        ,   1.        ,   1.        ,   1.        ,\n",
       "         1.        ,   1.        ,   1.        ,   2.        ,\n",
       "         2.        ,   2.        ,   2.        ,   2.        ,\n",
       "         2.        ,   2.        ,   2.        ,   2.        ,\n",
       "         2.        ,   2.        ,   2.        ,   2.        ,\n",
       "         2.        ,   2.        ,   2.        ,   2.        ,\n",
       "         2.        ,   2.        ,   3.        ,   3.        ,\n",
       "         3.        ,   3.        ,   3.        ,   3.        ,\n",
       "         3.        ,   3.        ,   3.        ,   3.        ,\n",
       "         3.        ,   3.        ,   3.        ,   3.        ,\n",
       "         4.        ,   4.        ,   4.        ,   4.        ,\n",
       "         4.        ,   4.        ,   4.        ,   4.        ,\n",
       "         4.        ,   4.        ,   4.        ,   4.9997304 ,\n",
       "         4.9999663 ,   5.        ,   5.        ,   6.        ,\n",
       "         6.        ,   6.        ,   6.        ,   7.        ,\n",
       "         7.        ,   8.        ,   8.        ,   8.99999997,\n",
       "         9.        ,  11.        ,  11.99933159,  13.9999992 ,\n",
       "        20.99999989,  24.        ,  24.        , 150.00097265])"
      ]
     },
     "execution_count": 18,
     "metadata": {},
     "output_type": "execute_result"
    }
   ],
   "source": [
    "np.sort(clustSums)"
   ]
  },
  {
   "cell_type": "code",
   "execution_count": 19,
   "metadata": {
    "execution": {
     "iopub.execute_input": "2024-06-01T07:58:42.361662Z",
     "iopub.status.busy": "2024-06-01T07:58:42.361501Z",
     "iopub.status.idle": "2024-06-01T07:58:42.365206Z",
     "shell.execute_reply": "2024-06-01T07:58:42.364811Z"
    }
   },
   "outputs": [
    {
     "data": {
      "text/plain": [
       "array([ 7, 73, 29, 36, 61, 27, 83, 32, 37, 43, 59, 95, 19, 50, 47, 21, 13,\n",
       "       20, 64, 57, 10, 76, 91, 88, 11, 60, 65, 80,  4, 30, 31, 54, 51, 40,\n",
       "       99, 26, 23, 62, 90, 16, 14,  5, 67, 97, 34, 98, 56, 55, 66, 85, 79,\n",
       "        1, 96,  8, 93, 15, 89, 24, 28, 70, 86, 72, 82, 41, 45, 78, 74, 81,\n",
       "       77, 75, 87,  0, 35,  6,  9, 12, 17, 18, 25, 33, 71, 38, 49, 42, 68,\n",
       "       63, 39, 53, 52, 58, 48, 46, 92, 44, 94, 84,  3,  2, 22, 69])"
      ]
     },
     "execution_count": 19,
     "metadata": {},
     "output_type": "execute_result"
    }
   ],
   "source": [
    "np.argsort(-clustSums)"
   ]
  },
  {
   "cell_type": "code",
   "execution_count": 20,
   "metadata": {
    "execution": {
     "iopub.execute_input": "2024-06-01T07:58:42.367487Z",
     "iopub.status.busy": "2024-06-01T07:58:42.367329Z",
     "iopub.status.idle": "2024-06-01T07:58:42.370329Z",
     "shell.execute_reply": "2024-06-01T07:58:42.369922Z"
    }
   },
   "outputs": [],
   "source": [
    "big_clust1 = np.argsort(clustSums)[-1]\n",
    "big_clust2 = np.argsort(clustSums)[-2]\n",
    "big_clust3 = np.argsort(clustSums)[-3]\n"
   ]
  },
  {
   "cell_type": "code",
   "execution_count": 21,
   "metadata": {
    "execution": {
     "iopub.execute_input": "2024-06-01T07:58:42.372625Z",
     "iopub.status.busy": "2024-06-01T07:58:42.372462Z",
     "iopub.status.idle": "2024-06-01T07:58:42.376082Z",
     "shell.execute_reply": "2024-06-01T07:58:42.375681Z"
    }
   },
   "outputs": [
    {
     "name": "stdout",
     "output_type": "stream",
     "text": [
      "[7, 150.00097264649222]\n",
      "[29, 24.0]\n",
      "[73, 24.0]\n"
     ]
    }
   ],
   "source": [
    "print([big_clust1, clustSums[big_clust1]])\n",
    "print([big_clust2, clustSums[big_clust2]])\n",
    "print([big_clust3, clustSums[big_clust3]])\n"
   ]
  },
  {
   "cell_type": "code",
   "execution_count": null,
   "metadata": {},
   "outputs": [],
   "source": []
  },
  {
   "cell_type": "code",
   "execution_count": 22,
   "metadata": {
    "execution": {
     "iopub.execute_input": "2024-06-01T07:58:42.378496Z",
     "iopub.status.busy": "2024-06-01T07:58:42.378310Z",
     "iopub.status.idle": "2024-06-01T07:58:42.380580Z",
     "shell.execute_reply": "2024-06-01T07:58:42.380143Z"
    }
   },
   "outputs": [],
   "source": [
    "#big_clust_p = pHat[big_clust,:,:]\n",
    "#big_clust_q = qHat[big_clust,:]"
   ]
  },
  {
   "cell_type": "code",
   "execution_count": 23,
   "metadata": {
    "execution": {
     "iopub.execute_input": "2024-06-01T07:58:42.382881Z",
     "iopub.status.busy": "2024-06-01T07:58:42.382721Z",
     "iopub.status.idle": "2024-06-01T07:58:42.385130Z",
     "shell.execute_reply": "2024-06-01T07:58:42.384736Z"
    }
   },
   "outputs": [],
   "source": [
    "#pHatCopy = pHat\n",
    "#normalizer = np.sum(pHatCopy,axis=2)[:,np.newaxis] # CHRIS ADDED \n",
    "#normalizer = np.swapaxes(normalizer,1,2)\n",
    "#pHatCopy /= normalizer\n",
    "#big_clust_p = pHatCopy[big_clust,:,:]\n"
   ]
  },
  {
   "cell_type": "code",
   "execution_count": 24,
   "metadata": {
    "execution": {
     "iopub.execute_input": "2024-06-01T07:58:42.387428Z",
     "iopub.status.busy": "2024-06-01T07:58:42.387242Z",
     "iopub.status.idle": "2024-06-01T07:58:42.389932Z",
     "shell.execute_reply": "2024-06-01T07:58:42.389524Z"
    }
   },
   "outputs": [],
   "source": [
    "hardAssign =  zHat.argmax(axis=1)"
   ]
  },
  {
   "cell_type": "code",
   "execution_count": 25,
   "metadata": {
    "execution": {
     "iopub.execute_input": "2024-06-01T07:58:42.392222Z",
     "iopub.status.busy": "2024-06-01T07:58:42.392035Z",
     "iopub.status.idle": "2024-06-01T07:58:42.397160Z",
     "shell.execute_reply": "2024-06-01T07:58:42.396487Z"
    }
   },
   "outputs": [],
   "source": [
    "big_cluster_states = states[hardAssign==big_clust1,:]\n",
    "big_cluster2_states = states[hardAssign==big_clust2,:]\n",
    "big_cluster3_states = states[hardAssign==big_clust3,:]\n"
   ]
  },
  {
   "cell_type": "code",
   "execution_count": null,
   "metadata": {},
   "outputs": [],
   "source": []
  },
  {
   "cell_type": "code",
   "execution_count": 26,
   "metadata": {
    "execution": {
     "iopub.execute_input": "2024-06-01T07:58:42.399546Z",
     "iopub.status.busy": "2024-06-01T07:58:42.399370Z",
     "iopub.status.idle": "2024-06-01T07:58:42.402279Z",
     "shell.execute_reply": "2024-06-01T07:58:42.401835Z"
    }
   },
   "outputs": [],
   "source": [
    "flattened_big_cluster_states = big_cluster_states\n",
    "flattened_big_cluster2_states = big_cluster2_states\n",
    "flattened_big_cluster3_states = big_cluster3_states"
   ]
  },
  {
   "cell_type": "code",
   "execution_count": 27,
   "metadata": {
    "execution": {
     "iopub.execute_input": "2024-06-01T07:58:42.404621Z",
     "iopub.status.busy": "2024-06-01T07:58:42.404463Z",
     "iopub.status.idle": "2024-06-01T07:58:42.431836Z",
     "shell.execute_reply": "2024-06-01T07:58:42.431374Z"
    }
   },
   "outputs": [],
   "source": [
    "big_cluster_genre_counts = np.zeros(100,)\n",
    "big_cluster2_genre_counts = np.zeros(100,)\n",
    "big_cluster3_genre_counts = np.zeros(100,)\n",
    "\n",
    "for i in range(100):\n",
    "    big_cluster_genre_counts[i] = np.sum(flattened_big_cluster_states==i)\n",
    "    big_cluster2_genre_counts[i] = np.sum(flattened_big_cluster2_states==i)\n",
    "    big_cluster3_genre_counts[i] = np.sum(flattened_big_cluster3_states==i)"
   ]
  },
  {
   "cell_type": "code",
   "execution_count": 28,
   "metadata": {
    "execution": {
     "iopub.execute_input": "2024-06-01T07:58:42.434203Z",
     "iopub.status.busy": "2024-06-01T07:58:42.434037Z",
     "iopub.status.idle": "2024-06-01T07:58:42.535705Z",
     "shell.execute_reply": "2024-06-01T07:58:42.535223Z"
    }
   },
   "outputs": [
    {
     "data": {
      "text/plain": [
       "[<matplotlib.lines.Line2D at 0x7fbb39afec10>]"
      ]
     },
     "execution_count": 28,
     "metadata": {},
     "output_type": "execute_result"
    },
    {
     "data": {
      "image/png": "[encoded data removed]",
      "text/plain": [
       "<Figure size 432x288 with 1 Axes>"
      ]
     },
     "metadata": {
      "needs_background": "light"
     },
     "output_type": "display_data"
    }
   ],
   "source": [
    "plt.plot(big_cluster_genre_counts/np.sum(big_cluster_genre_counts))\n",
    "plt.plot(big_cluster2_genre_counts/np.sum(big_cluster2_genre_counts))\n",
    "plt.plot(big_cluster3_genre_counts/np.sum(big_cluster3_genre_counts))\n"
   ]
  },
  {
   "cell_type": "code",
   "execution_count": 29,
   "metadata": {
    "execution": {
     "iopub.execute_input": "2024-06-01T07:58:42.538124Z",
     "iopub.status.busy": "2024-06-01T07:58:42.537939Z",
     "iopub.status.idle": "2024-06-01T07:58:42.541141Z",
     "shell.execute_reply": "2024-06-01T07:58:42.540725Z"
    }
   },
   "outputs": [],
   "source": [
    "genre_big3 = np.asarray([big_cluster_genre_counts/np.sum(big_cluster_genre_counts), big_cluster2_genre_counts/np.sum(big_cluster2_genre_counts), big_cluster3_genre_counts/np.sum(big_cluster3_genre_counts)])"
   ]
  },
  {
   "cell_type": "code",
   "execution_count": 30,
   "metadata": {
    "execution": {
     "iopub.execute_input": "2024-06-01T07:58:42.543471Z",
     "iopub.status.busy": "2024-06-01T07:58:42.543319Z",
     "iopub.status.idle": "2024-06-01T07:58:42.641983Z",
     "shell.execute_reply": "2024-06-01T07:58:42.641514Z"
    }
   },
   "outputs": [
    {
     "data": {
      "text/plain": [
       "<matplotlib.collections.PolyCollection at 0x7fbab83c2280>"
      ]
     },
     "execution_count": 30,
     "metadata": {},
     "output_type": "execute_result"
    },
    {
     "data": {
      "image/png": "[encoded data removed]",
      "text/plain": [
       "<Figure size 432x288 with 1 Axes>"
      ]
     },
     "metadata": {
      "needs_background": "light"
     },
     "output_type": "display_data"
    }
   ],
   "source": [
    "plt.pcolor(genre_big3[:,0:75])"
   ]
  },
  {
   "cell_type": "code",
   "execution_count": 31,
   "metadata": {
    "execution": {
     "iopub.execute_input": "2024-06-01T07:58:42.644417Z",
     "iopub.status.busy": "2024-06-01T07:58:42.644206Z",
     "iopub.status.idle": "2024-06-01T07:58:42.647324Z",
     "shell.execute_reply": "2024-06-01T07:58:42.646893Z"
    }
   },
   "outputs": [],
   "source": [
    "big_cluster_topgenres = np.argsort(-big_cluster_genre_counts)\n",
    "big_cluster2_topgenres = np.argsort(-big_cluster2_genre_counts)\n",
    "big_cluster3_topgenres = np.argsort(-big_cluster3_genre_counts)\n"
   ]
  },
  {
   "cell_type": "code",
   "execution_count": 32,
   "metadata": {
    "execution": {
     "iopub.execute_input": "2024-06-01T07:58:42.651648Z",
     "iopub.status.busy": "2024-06-01T07:58:42.651457Z",
     "iopub.status.idle": "2024-06-01T07:58:42.655315Z",
     "shell.execute_reply": "2024-06-01T07:58:42.654910Z"
    }
   },
   "outputs": [
    {
     "data": {
      "text/plain": [
       "array([ 2,  3,  1,  7, 32,  0, 10,  6,  8, 27,  5, 58, 42, 16, 72,  9, 14,\n",
       "       21, 17, 41, 11, 61, 93, 12, 92, 39, 31, 86, 30, 23, 99, 49, 29, 69,\n",
       "        4, 47, 20, 59, 45, 79, 84, 15, 50, 64, 19, 24, 85, 60, 22, 44, 89,\n",
       "       73, 40, 77, 28, 94, 54, 51, 36, 76, 87, 66, 52, 97, 78, 35, 67, 63,\n",
       "       75, 18, 56, 55, 13, 33, 82, 80, 68, 25, 48, 62, 38, 95, 43, 90, 37,\n",
       "       74, 46, 96, 98, 83, 71, 81, 88, 26, 53, 34, 65, 70, 57, 91])"
      ]
     },
     "execution_count": 32,
     "metadata": {},
     "output_type": "execute_result"
    }
   ],
   "source": [
    "big_cluster_topgenres"
   ]
  },
  {
   "cell_type": "code",
   "execution_count": 33,
   "metadata": {
    "execution": {
     "iopub.execute_input": "2024-06-01T07:58:42.657632Z",
     "iopub.status.busy": "2024-06-01T07:58:42.657453Z",
     "iopub.status.idle": "2024-06-01T07:58:42.661651Z",
     "shell.execute_reply": "2024-06-01T07:58:42.661175Z"
    }
   },
   "outputs": [
    {
     "data": {
      "text/plain": [
       "Index(['rock', 'seen live', 'indie', 'alternative', 'metal', 'electronic',\n",
       "       'punk', 'pop', 'indie rock', 'classic rock', 'alternative rock',\n",
       "       'female vocalists', 'emo', 'death metal', 'Hip-Hop', 'hardcore',\n",
       "       'electronica', 'singer-songwriter', 'black metal', 'jazz', 'hard rock',\n",
       "       'folk', 'punk rock', 'Progressive rock', 'heavy metal', 'industrial',\n",
       "       'metalcore', '80s', 'rap', 'experimental', 'dance', 'ambient',\n",
       "       'indie pop', 'Progressive metal', 'thrash metal', 'Power metal',\n",
       "       'post-rock', 'japanese', 'Melodic Death Metal', 'chillout', 'hip hop',\n",
       "       'british', 'britpop', 'screamo', 'trip-hop', 'new wave', 'Gothic Metal',\n",
       "       'Grunge', 'ska', 'post-punk', 'blues', 'soul', 'instrumental',\n",
       "       'doom metal', 'Gothic', 'reggae', 'german', 'finnish', 'favorites',\n",
       "       'Soundtrack', 'funk', 'acoustic', 'trance', 'Classical', 'psychedelic',\n",
       "       'folk metal', 'swedish', 'techno', 'idm', 'Canadian', 'J-rock',\n",
       "       'grindcore', '90s', 'electro', 'ebm', 'rnb', 'country', 'downtempo',\n",
       "       'Progressive', 'female', 'pop punk', 'symphonic metal', 'Nu Metal',\n",
       "       'j-pop', 'american', 'House', 'oldies', 'french', 'industrial metal',\n",
       "       'synthpop', 'post-hardcore', 'viking metal', 'chill', 'Stoner Rock',\n",
       "       'Alt-country', 'darkwave', 'JPop', '60s', 'christian', 'Mellow'],\n",
       "      dtype='object')"
      ]
     },
     "execution_count": 33,
     "metadata": {},
     "output_type": "execute_result"
    }
   ],
   "source": [
    "genres.index"
   ]
  },
  {
   "cell_type": "code",
   "execution_count": 34,
   "metadata": {
    "execution": {
     "iopub.execute_input": "2024-06-01T07:58:42.663986Z",
     "iopub.status.busy": "2024-06-01T07:58:42.663812Z",
     "iopub.status.idle": "2024-06-01T07:58:42.667756Z",
     "shell.execute_reply": "2024-06-01T07:58:42.667288Z"
    }
   },
   "outputs": [
    {
     "data": {
      "text/plain": [
       "Index(['indie', 'alternative', 'seen live', 'pop', 'indie pop'], dtype='object')"
      ]
     },
     "execution_count": 34,
     "metadata": {},
     "output_type": "execute_result"
    }
   ],
   "source": [
    "genres.index[big_cluster_topgenres][0:5]"
   ]
  },
  {
   "cell_type": "code",
   "execution_count": 35,
   "metadata": {
    "execution": {
     "iopub.execute_input": "2024-06-01T07:58:42.670207Z",
     "iopub.status.busy": "2024-06-01T07:58:42.670031Z",
     "iopub.status.idle": "2024-06-01T07:58:42.673914Z",
     "shell.execute_reply": "2024-06-01T07:58:42.673456Z"
    }
   },
   "outputs": [
    {
     "data": {
      "text/plain": [
       "Index(['seen live', 'metal', 'rock', 'punk', 'death metal'], dtype='object')"
      ]
     },
     "execution_count": 35,
     "metadata": {},
     "output_type": "execute_result"
    }
   ],
   "source": [
    "genres.index[big_cluster2_topgenres][0:5]"
   ]
  },
  {
   "cell_type": "code",
   "execution_count": 36,
   "metadata": {
    "execution": {
     "iopub.execute_input": "2024-06-01T07:58:42.676315Z",
     "iopub.status.busy": "2024-06-01T07:58:42.676111Z",
     "iopub.status.idle": "2024-06-01T07:58:42.679962Z",
     "shell.execute_reply": "2024-06-01T07:58:42.679523Z"
    }
   },
   "outputs": [
    {
     "data": {
      "text/plain": [
       "Index(['electronica', 'electronic', 'Hip-Hop', 'seen live', 'chillout'], dtype='object')"
      ]
     },
     "execution_count": 36,
     "metadata": {},
     "output_type": "execute_result"
    }
   ],
   "source": [
    "genres.index[big_cluster3_topgenres][0:5]"
   ]
  },
  {
   "cell_type": "code",
   "execution_count": null,
   "metadata": {},
   "outputs": [],
   "source": []
  },
  {
   "cell_type": "code",
   "execution_count": null,
   "metadata": {},
   "outputs": [],
   "source": []
  },
  {
   "cell_type": "code",
   "execution_count": null,
   "metadata": {},
   "outputs": [],
   "source": []
  },
  {
   "cell_type": "code",
   "execution_count": null,
   "metadata": {},
   "outputs": [],
   "source": []
  }
 ],
 "metadata": {
  "kernelspec": {
   "display_name": "base",
   "language": "python",
   "name": "python3"
  },
  "language_info": {
   "codemirror_mode": {
    "name": "ipython",
    "version": 3
   },
   "file_extension": ".py",
   "mimetype": "text/x-python",
   "name": "python",
   "nbconvert_exporter": "python",
   "pygments_lexer": "ipython3",
   "version": "3.9.12"
  }
 },
 "nbformat": 4,
 "nbformat_minor": 2
}
